{
 "cells": [
  {
   "cell_type": "code",
   "execution_count": 1,
   "id": "9a1796ff",
   "metadata": {},
   "outputs": [],
   "source": [
    "import plotly.figure_factory as ff"
   ]
  },
  {
   "cell_type": "code",
   "execution_count": 2,
   "id": "654d7fce",
   "metadata": {},
   "outputs": [],
   "source": [
    "import pandas as pd "
   ]
  },
  {
   "cell_type": "code",
   "execution_count": 8,
   "id": "a0e11647",
   "metadata": {},
   "outputs": [],
   "source": [
    "df = pd.read_csv('Netflix_Filmes_BR.csv')"
   ]
  },
  {
   "cell_type": "code",
   "execution_count": 9,
   "id": "d3e95a63",
   "metadata": {},
   "outputs": [
    {
     "data": {
      "text/html": [
       "<div>\n",
       "<style scoped>\n",
       "    .dataframe tbody tr th:only-of-type {\n",
       "        vertical-align: middle;\n",
       "    }\n",
       "\n",
       "    .dataframe tbody tr th {\n",
       "        vertical-align: top;\n",
       "    }\n",
       "\n",
       "    .dataframe thead th {\n",
       "        text-align: right;\n",
       "    }\n",
       "</style>\n",
       "<table border=\"1\" class=\"dataframe\">\n",
       "  <thead>\n",
       "    <tr style=\"text-align: right;\">\n",
       "      <th></th>\n",
       "      <th>show_id</th>\n",
       "      <th>type</th>\n",
       "      <th>title</th>\n",
       "      <th>director</th>\n",
       "      <th>country</th>\n",
       "      <th>date_added</th>\n",
       "      <th>release_year</th>\n",
       "      <th>rating</th>\n",
       "      <th>duration</th>\n",
       "      <th>listed_in</th>\n",
       "    </tr>\n",
       "  </thead>\n",
       "  <tbody>\n",
       "    <tr>\n",
       "      <th>0</th>\n",
       "      <td>s14</td>\n",
       "      <td>Movie</td>\n",
       "      <td>Confessions of an Invisible Girl</td>\n",
       "      <td>Bruno Garotti</td>\n",
       "      <td>Brazil</td>\n",
       "      <td>9/22/2021</td>\n",
       "      <td>2021</td>\n",
       "      <td>TV-PG</td>\n",
       "      <td>91 min</td>\n",
       "      <td>Children &amp; Family Movies, Comedies</td>\n",
       "    </tr>\n",
       "    <tr>\n",
       "      <th>1</th>\n",
       "      <td>s262</td>\n",
       "      <td>Movie</td>\n",
       "      <td>The Secret Diary of an Exchange Student</td>\n",
       "      <td>Bruno Garotti</td>\n",
       "      <td>Brazil</td>\n",
       "      <td>8/18/2021</td>\n",
       "      <td>2021</td>\n",
       "      <td>TV-14</td>\n",
       "      <td>97 min</td>\n",
       "      <td>Comedies, International Movies, Romantic Movies</td>\n",
       "    </tr>\n",
       "    <tr>\n",
       "      <th>2</th>\n",
       "      <td>s303</td>\n",
       "      <td>Movie</td>\n",
       "      <td>City of God: 10 Years Later</td>\n",
       "      <td>Cavi Borges, Luciano Vidigal</td>\n",
       "      <td>Brazil</td>\n",
       "      <td>8/5/2021</td>\n",
       "      <td>2013</td>\n",
       "      <td>TV-MA</td>\n",
       "      <td>69 min</td>\n",
       "      <td>Documentaries, International Movies</td>\n",
       "    </tr>\n",
       "    <tr>\n",
       "      <th>3</th>\n",
       "      <td>s651</td>\n",
       "      <td>Movie</td>\n",
       "      <td>O Vendedor de Sonhos</td>\n",
       "      <td>Jayme Monjardim</td>\n",
       "      <td>Brazil</td>\n",
       "      <td>6/22/2021</td>\n",
       "      <td>2016</td>\n",
       "      <td>TV-14</td>\n",
       "      <td>96 min</td>\n",
       "      <td>Dramas, International Movies</td>\n",
       "    </tr>\n",
       "    <tr>\n",
       "      <th>4</th>\n",
       "      <td>s784</td>\n",
       "      <td>Movie</td>\n",
       "      <td>Carnaval</td>\n",
       "      <td>Leandro Neri</td>\n",
       "      <td>Brazil</td>\n",
       "      <td>6/2/2021</td>\n",
       "      <td>2021</td>\n",
       "      <td>TV-MA</td>\n",
       "      <td>95 min</td>\n",
       "      <td>Comedies, International Movies, Music &amp; Musicals</td>\n",
       "    </tr>\n",
       "  </tbody>\n",
       "</table>\n",
       "</div>"
      ],
      "text/plain": [
       "  show_id   type                                    title  \\\n",
       "0     s14  Movie         Confessions of an Invisible Girl   \n",
       "1    s262  Movie  The Secret Diary of an Exchange Student   \n",
       "2    s303  Movie              City of God: 10 Years Later   \n",
       "3    s651  Movie                     O Vendedor de Sonhos   \n",
       "4    s784  Movie                                 Carnaval   \n",
       "\n",
       "                       director country date_added  release_year rating  \\\n",
       "0                 Bruno Garotti  Brazil  9/22/2021          2021  TV-PG   \n",
       "1                 Bruno Garotti  Brazil  8/18/2021          2021  TV-14   \n",
       "2  Cavi Borges, Luciano Vidigal  Brazil   8/5/2021          2013  TV-MA   \n",
       "3               Jayme Monjardim  Brazil  6/22/2021          2016  TV-14   \n",
       "4                  Leandro Neri  Brazil   6/2/2021          2021  TV-MA   \n",
       "\n",
       "  duration                                         listed_in  \n",
       "0   91 min                Children & Family Movies, Comedies  \n",
       "1   97 min   Comedies, International Movies, Romantic Movies  \n",
       "2   69 min               Documentaries, International Movies  \n",
       "3   96 min                      Dramas, International Movies  \n",
       "4   95 min  Comedies, International Movies, Music & Musicals  "
      ]
     },
     "execution_count": 9,
     "metadata": {},
     "output_type": "execute_result"
    }
   ],
   "source": [
    "df.head()"
   ]
  },
  {
   "cell_type": "code",
   "execution_count": null,
   "id": "da1f75c7",
   "metadata": {},
   "outputs": [],
   "source": []
  }
 ],
 "metadata": {
  "kernelspec": {
   "display_name": "Python 3 (ipykernel)",
   "language": "python",
   "name": "python3"
  },
  "language_info": {
   "codemirror_mode": {
    "name": "ipython",
    "version": 3
   },
   "file_extension": ".py",
   "mimetype": "text/x-python",
   "name": "python",
   "nbconvert_exporter": "python",
   "pygments_lexer": "ipython3",
   "version": "3.11.5"
  }
 },
 "nbformat": 4,
 "nbformat_minor": 5
}
