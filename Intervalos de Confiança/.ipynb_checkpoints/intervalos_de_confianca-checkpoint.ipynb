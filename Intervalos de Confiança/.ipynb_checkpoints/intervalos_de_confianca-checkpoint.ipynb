{
 "cells": [
  {
   "cell_type": "code",
   "execution_count": 1,
   "id": "a4d478f7",
   "metadata": {},
   "outputs": [],
   "source": [
    "import pandas as pd "
   ]
  },
  {
   "cell_type": "code",
   "execution_count": 13,
   "id": "f6bc4801",
   "metadata": {
    "scrolled": true
   },
   "outputs": [
    {
     "data": {
      "text/html": [
       "<div>\n",
       "<style scoped>\n",
       "    .dataframe tbody tr th:only-of-type {\n",
       "        vertical-align: middle;\n",
       "    }\n",
       "\n",
       "    .dataframe tbody tr th {\n",
       "        vertical-align: top;\n",
       "    }\n",
       "\n",
       "    .dataframe thead th {\n",
       "        text-align: right;\n",
       "    }\n",
       "</style>\n",
       "<table border=\"1\" class=\"dataframe\">\n",
       "  <thead>\n",
       "    <tr style=\"text-align: right;\">\n",
       "      <th></th>\n",
       "      <th>local_price</th>\n",
       "      <th>dollar_ex</th>\n",
       "      <th>dollar_price</th>\n",
       "    </tr>\n",
       "  </thead>\n",
       "  <tbody>\n",
       "    <tr>\n",
       "      <th>count</th>\n",
       "      <td>1.946000e+03</td>\n",
       "      <td>1.946000e+03</td>\n",
       "      <td>1946.000000</td>\n",
       "    </tr>\n",
       "    <tr>\n",
       "      <th>mean</th>\n",
       "      <td>1.581609e+04</td>\n",
       "      <td>4.722255e+03</td>\n",
       "      <td>3.568011</td>\n",
       "    </tr>\n",
       "    <tr>\n",
       "      <th>std</th>\n",
       "      <td>3.940050e+05</td>\n",
       "      <td>1.006232e+05</td>\n",
       "      <td>1.417054</td>\n",
       "    </tr>\n",
       "    <tr>\n",
       "      <th>min</th>\n",
       "      <td>0.000000e+00</td>\n",
       "      <td>1.000000e+00</td>\n",
       "      <td>0.000000</td>\n",
       "    </tr>\n",
       "    <tr>\n",
       "      <th>25%</th>\n",
       "      <td>4.450000e+00</td>\n",
       "      <td>1.000000e+00</td>\n",
       "      <td>2.572500</td>\n",
       "    </tr>\n",
       "    <tr>\n",
       "      <th>50%</th>\n",
       "      <td>1.500000e+01</td>\n",
       "      <td>5.000000e+00</td>\n",
       "      <td>3.400000</td>\n",
       "    </tr>\n",
       "    <tr>\n",
       "      <th>75%</th>\n",
       "      <td>8.700000e+01</td>\n",
       "      <td>3.200000e+01</td>\n",
       "      <td>4.240000</td>\n",
       "    </tr>\n",
       "    <tr>\n",
       "      <th>max</th>\n",
       "      <td>1.602000e+07</td>\n",
       "      <td>3.613989e+06</td>\n",
       "      <td>11.250000</td>\n",
       "    </tr>\n",
       "  </tbody>\n",
       "</table>\n",
       "</div>"
      ],
      "text/plain": [
       "        local_price     dollar_ex  dollar_price\n",
       "count  1.946000e+03  1.946000e+03   1946.000000\n",
       "mean   1.581609e+04  4.722255e+03      3.568011\n",
       "std    3.940050e+05  1.006232e+05      1.417054\n",
       "min    0.000000e+00  1.000000e+00      0.000000\n",
       "25%    4.450000e+00  1.000000e+00      2.572500\n",
       "50%    1.500000e+01  5.000000e+00      3.400000\n",
       "75%    8.700000e+01  3.200000e+01      4.240000\n",
       "max    1.602000e+07  3.613989e+06     11.250000"
      ]
     },
     "execution_count": 13,
     "metadata": {},
     "output_type": "execute_result"
    }
   ],
   "source": [
    "df = pd.read_csv('BigmacPrice.csv')\n",
    "df.describe()"
   ]
  },
  {
   "cell_type": "markdown",
   "id": "813c1ac7",
   "metadata": {},
   "source": [
    "**Intervalo de confiançã para media** "
   ]
  },
  {
   "cell_type": "code",
   "execution_count": 17,
   "id": "5ff513c8",
   "metadata": {},
   "outputs": [],
   "source": [
    "from scipy import stats\n",
    "big_mac_media = df['dollar_price'].mean()\n",
    "big_mac_desviao_padrao = df['dollar_price'].std()"
   ]
  },
  {
   "cell_type": "code",
   "execution_count": 24,
   "id": "93d045a4",
   "metadata": {},
   "outputs": [
    {
     "name": "stdout",
     "output_type": "stream",
     "text": [
      "Media do preço do Big Mac: 3.568011305241521\n",
      "Desvio padão do preço do Big Mac: 1.4170542245978206\n"
     ]
    }
   ],
   "source": [
    "print(f'Media do preço do Big Mac: {big_mac_media}')\n",
    "print(f'Desvio padão do preço do Big Mac: {big_mac_desviao_padrao}')"
   ]
  },
  {
   "cell_type": "code",
   "execution_count": 25,
   "id": "9a32b374",
   "metadata": {},
   "outputs": [
    {
     "name": "stdout",
     "output_type": "stream",
     "text": [
      " Intervalo para 90% de confiança para a Media: (0.7906360608894603, 6.345386549593583)\n"
     ]
    }
   ],
   "source": [
    "intervalo_95_big_mac = stats.norm.interval(0.95,\n",
    "                                          loc = big_mac_media,\n",
    "                                          scale = big_mac_desviao_padrao)\n",
    "print(f' Intervalo para 90% de confiança para a Media: {intervalo_95_big_mac}')"
   ]
  },
  {
   "cell_type": "code",
   "execution_count": 26,
   "id": "5e4811dd",
   "metadata": {
    "scrolled": true
   },
   "outputs": [
    {
     "name": "stdout",
     "output_type": "stream",
     "text": [
      "Margem de erro para o intervalo: 2.7773752443520614\n"
     ]
    }
   ],
   "source": [
    "margem_de_erro_big_mac = intervalo_95_big_mac[1] - big_mac_media\n",
    "print(f'Margem de erro para o intervalo: {margem_de_erro_big_mac}')"
   ]
  },
  {
   "cell_type": "markdown",
   "id": "3b20adc7",
   "metadata": {},
   "source": [
    "**Intervalo de confiançã para proporção** "
   ]
  }
 ],
 "metadata": {
  "kernelspec": {
   "display_name": "Python 3 (ipykernel)",
   "language": "python",
   "name": "python3"
  },
  "language_info": {
   "codemirror_mode": {
    "name": "ipython",
    "version": 3
   },
   "file_extension": ".py",
   "mimetype": "text/x-python",
   "name": "python",
   "nbconvert_exporter": "python",
   "pygments_lexer": "ipython3",
   "version": "3.11.5"
  }
 },
 "nbformat": 4,
 "nbformat_minor": 5
}
