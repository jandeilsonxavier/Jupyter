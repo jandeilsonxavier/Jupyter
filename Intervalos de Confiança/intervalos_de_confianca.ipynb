{
 "cells": [
  {
   "cell_type": "code",
   "execution_count": 1,
   "id": "9cd262be",
   "metadata": {},
   "outputs": [],
   "source": [
    "import pandas as pd "
   ]
  },
  {
   "cell_type": "code",
   "execution_count": 13,
   "id": "9cbcf0cc",
   "metadata": {
    "scrolled": true
   },
   "outputs": [
    {
     "data": {
      "text/html": [
       "<div>\n",
       "<style scoped>\n",
       "    .dataframe tbody tr th:only-of-type {\n",
       "        vertical-align: middle;\n",
       "    }\n",
       "\n",
       "    .dataframe tbody tr th {\n",
       "        vertical-align: top;\n",
       "    }\n",
       "\n",
       "    .dataframe thead th {\n",
       "        text-align: right;\n",
       "    }\n",
       "</style>\n",
       "<table border=\"1\" class=\"dataframe\">\n",
       "  <thead>\n",
       "    <tr style=\"text-align: right;\">\n",
       "      <th></th>\n",
       "      <th>local_price</th>\n",
       "      <th>dollar_ex</th>\n",
       "      <th>dollar_price</th>\n",
       "    </tr>\n",
       "  </thead>\n",
       "  <tbody>\n",
       "    <tr>\n",
       "      <th>count</th>\n",
       "      <td>1.946000e+03</td>\n",
       "      <td>1.946000e+03</td>\n",
       "      <td>1946.000000</td>\n",
       "    </tr>\n",
       "    <tr>\n",
       "      <th>mean</th>\n",
       "      <td>1.581609e+04</td>\n",
       "      <td>4.722255e+03</td>\n",
       "      <td>3.568011</td>\n",
       "    </tr>\n",
       "    <tr>\n",
       "      <th>std</th>\n",
       "      <td>3.940050e+05</td>\n",
       "      <td>1.006232e+05</td>\n",
       "      <td>1.417054</td>\n",
       "    </tr>\n",
       "    <tr>\n",
       "      <th>min</th>\n",
       "      <td>0.000000e+00</td>\n",
       "      <td>1.000000e+00</td>\n",
       "      <td>0.000000</td>\n",
       "    </tr>\n",
       "    <tr>\n",
       "      <th>25%</th>\n",
       "      <td>4.450000e+00</td>\n",
       "      <td>1.000000e+00</td>\n",
       "      <td>2.572500</td>\n",
       "    </tr>\n",
       "    <tr>\n",
       "      <th>50%</th>\n",
       "      <td>1.500000e+01</td>\n",
       "      <td>5.000000e+00</td>\n",
       "      <td>3.400000</td>\n",
       "    </tr>\n",
       "    <tr>\n",
       "      <th>75%</th>\n",
       "      <td>8.700000e+01</td>\n",
       "      <td>3.200000e+01</td>\n",
       "      <td>4.240000</td>\n",
       "    </tr>\n",
       "    <tr>\n",
       "      <th>max</th>\n",
       "      <td>1.602000e+07</td>\n",
       "      <td>3.613989e+06</td>\n",
       "      <td>11.250000</td>\n",
       "    </tr>\n",
       "  </tbody>\n",
       "</table>\n",
       "</div>"
      ],
      "text/plain": [
       "        local_price     dollar_ex  dollar_price\n",
       "count  1.946000e+03  1.946000e+03   1946.000000\n",
       "mean   1.581609e+04  4.722255e+03      3.568011\n",
       "std    3.940050e+05  1.006232e+05      1.417054\n",
       "min    0.000000e+00  1.000000e+00      0.000000\n",
       "25%    4.450000e+00  1.000000e+00      2.572500\n",
       "50%    1.500000e+01  5.000000e+00      3.400000\n",
       "75%    8.700000e+01  3.200000e+01      4.240000\n",
       "max    1.602000e+07  3.613989e+06     11.250000"
      ]
     },
     "execution_count": 13,
     "metadata": {},
     "output_type": "execute_result"
    }
   ],
   "source": [
    "df = pd.read_csv('BigmacPrice.csv')\n",
    "df.describe()"
   ]
  },
  {
   "cell_type": "markdown",
   "id": "894c34a4",
   "metadata": {},
   "source": [
    "**Intervalo de confiançã para media** "
   ]
  },
  {
   "cell_type": "code",
   "execution_count": 17,
   "id": "f2f7bb74",
   "metadata": {},
   "outputs": [],
   "source": [
    "from scipy import stats\n",
    "big_mac_media = df['dollar_price'].mean()\n",
    "big_mac_desviao_padrao = df['dollar_price'].std()"
   ]
  },
  {
   "cell_type": "code",
   "execution_count": 24,
   "id": "77f93c79",
   "metadata": {},
   "outputs": [
    {
     "name": "stdout",
     "output_type": "stream",
     "text": [
      "Media do preço do Big Mac: 3.568011305241521\n",
      "Desvio padão do preço do Big Mac: 1.4170542245978206\n"
     ]
    }
   ],
   "source": [
    "print(f'Media do preço do Big Mac: {big_mac_media}')\n",
    "print(f'Desvio padão do preço do Big Mac: {big_mac_desviao_padrao}')"
   ]
  },
  {
   "cell_type": "code",
   "execution_count": 25,
   "id": "dfbd6329",
   "metadata": {},
   "outputs": [
    {
     "name": "stdout",
     "output_type": "stream",
     "text": [
      " Intervalo para 90% de confiança para a Media: (0.7906360608894603, 6.345386549593583)\n"
     ]
    }
   ],
   "source": [
    "intervalo_95_big_mac = stats.norm.interval(0.95,\n",
    "                                          loc = big_mac_media,\n",
    "                                          scale = big_mac_desviao_padrao)\n",
    "print(f' Intervalo para 90% de confiança para a Media: {intervalo_95_big_mac}')"
   ]
  },
  {
   "cell_type": "code",
   "execution_count": 26,
   "id": "a0174186",
   "metadata": {
    "scrolled": true
   },
   "outputs": [
    {
     "name": "stdout",
     "output_type": "stream",
     "text": [
      "Margem de erro para o intervalo: 2.7773752443520614\n"
     ]
    }
   ],
   "source": [
    "margem_de_erro_big_mac = intervalo_95_big_mac[1] - big_mac_media\n",
    "print(f'Margem de erro para o intervalo: {margem_de_erro_big_mac}')"
   ]
  },
  {
   "cell_type": "markdown",
   "id": "91f12f28",
   "metadata": {},
   "source": [
    "### Intervalo de confiançã para proporção \n",
    " Vamos criar uma coluna cujo o resultado é 1 se o opreço do big mac for maior que 4 dolares e 0 se for menor ou igual."
   ]
  },
  {
   "cell_type": "code",
   "execution_count": 29,
   "id": "2c2ee7e6",
   "metadata": {},
   "outputs": [],
   "source": [
    "def e_caro(preco):\n",
    "    if preco > 4:\n",
    "        return 1\n",
    "    return 0"
   ]
  },
  {
   "cell_type": "code",
   "execution_count": 30,
   "id": "e8e2d056",
   "metadata": {},
   "outputs": [
    {
     "data": {
      "text/html": [
       "<div>\n",
       "<style scoped>\n",
       "    .dataframe tbody tr th:only-of-type {\n",
       "        vertical-align: middle;\n",
       "    }\n",
       "\n",
       "    .dataframe tbody tr th {\n",
       "        vertical-align: top;\n",
       "    }\n",
       "\n",
       "    .dataframe thead th {\n",
       "        text-align: right;\n",
       "    }\n",
       "</style>\n",
       "<table border=\"1\" class=\"dataframe\">\n",
       "  <thead>\n",
       "    <tr style=\"text-align: right;\">\n",
       "      <th></th>\n",
       "      <th>date</th>\n",
       "      <th>currency_code</th>\n",
       "      <th>name</th>\n",
       "      <th>local_price</th>\n",
       "      <th>dollar_ex</th>\n",
       "      <th>dollar_price</th>\n",
       "      <th>Bigmac_Caro</th>\n",
       "    </tr>\n",
       "  </thead>\n",
       "  <tbody>\n",
       "    <tr>\n",
       "      <th>0</th>\n",
       "      <td>2000-04-01</td>\n",
       "      <td>ARS</td>\n",
       "      <td>Argentina</td>\n",
       "      <td>2.50</td>\n",
       "      <td>1</td>\n",
       "      <td>2.50</td>\n",
       "      <td>0</td>\n",
       "    </tr>\n",
       "    <tr>\n",
       "      <th>1</th>\n",
       "      <td>2000-04-01</td>\n",
       "      <td>AUD</td>\n",
       "      <td>Australia</td>\n",
       "      <td>2.59</td>\n",
       "      <td>1</td>\n",
       "      <td>2.59</td>\n",
       "      <td>0</td>\n",
       "    </tr>\n",
       "    <tr>\n",
       "      <th>2</th>\n",
       "      <td>2000-04-01</td>\n",
       "      <td>BRL</td>\n",
       "      <td>Brazil</td>\n",
       "      <td>2.95</td>\n",
       "      <td>1</td>\n",
       "      <td>2.95</td>\n",
       "      <td>0</td>\n",
       "    </tr>\n",
       "    <tr>\n",
       "      <th>3</th>\n",
       "      <td>2000-04-01</td>\n",
       "      <td>GBP</td>\n",
       "      <td>Britain</td>\n",
       "      <td>1.90</td>\n",
       "      <td>1</td>\n",
       "      <td>1.90</td>\n",
       "      <td>0</td>\n",
       "    </tr>\n",
       "    <tr>\n",
       "      <th>4</th>\n",
       "      <td>2000-04-01</td>\n",
       "      <td>CAD</td>\n",
       "      <td>Canada</td>\n",
       "      <td>2.85</td>\n",
       "      <td>1</td>\n",
       "      <td>2.85</td>\n",
       "      <td>0</td>\n",
       "    </tr>\n",
       "  </tbody>\n",
       "</table>\n",
       "</div>"
      ],
      "text/plain": [
       "         date currency_code       name  local_price  dollar_ex  dollar_price  \\\n",
       "0  2000-04-01           ARS  Argentina         2.50          1          2.50   \n",
       "1  2000-04-01           AUD  Australia         2.59          1          2.59   \n",
       "2  2000-04-01           BRL     Brazil         2.95          1          2.95   \n",
       "3  2000-04-01           GBP    Britain         1.90          1          1.90   \n",
       "4  2000-04-01           CAD     Canada         2.85          1          2.85   \n",
       "\n",
       "   Bigmac_Caro  \n",
       "0            0  \n",
       "1            0  \n",
       "2            0  \n",
       "3            0  \n",
       "4            0  "
      ]
     },
     "execution_count": 30,
     "metadata": {},
     "output_type": "execute_result"
    }
   ],
   "source": [
    "df['Bigmac_Caro'] = df['dollar_price'].apply(e_caro)\n",
    "df.head()"
   ]
  },
  {
   "cell_type": "code",
   "execution_count": 53,
   "id": "2c7c60ec",
   "metadata": {},
   "outputs": [
    {
     "data": {
      "text/html": [
       "<div>\n",
       "<style scoped>\n",
       "    .dataframe tbody tr th:only-of-type {\n",
       "        vertical-align: middle;\n",
       "    }\n",
       "\n",
       "    .dataframe tbody tr th {\n",
       "        vertical-align: top;\n",
       "    }\n",
       "\n",
       "    .dataframe thead th {\n",
       "        text-align: right;\n",
       "    }\n",
       "</style>\n",
       "<table border=\"1\" class=\"dataframe\">\n",
       "  <thead>\n",
       "    <tr style=\"text-align: right;\">\n",
       "      <th></th>\n",
       "      <th>local_price</th>\n",
       "      <th>dollar_ex</th>\n",
       "      <th>dollar_price</th>\n",
       "      <th>Bigmac_Caro</th>\n",
       "    </tr>\n",
       "  </thead>\n",
       "  <tbody>\n",
       "    <tr>\n",
       "      <th>count</th>\n",
       "      <td>1.946000e+03</td>\n",
       "      <td>1.946000e+03</td>\n",
       "      <td>1946.000000</td>\n",
       "      <td>1946.000000</td>\n",
       "    </tr>\n",
       "    <tr>\n",
       "      <th>mean</th>\n",
       "      <td>1.581609e+04</td>\n",
       "      <td>4.722255e+03</td>\n",
       "      <td>3.568011</td>\n",
       "      <td>0.303186</td>\n",
       "    </tr>\n",
       "    <tr>\n",
       "      <th>std</th>\n",
       "      <td>3.940050e+05</td>\n",
       "      <td>1.006232e+05</td>\n",
       "      <td>1.417054</td>\n",
       "      <td>0.459753</td>\n",
       "    </tr>\n",
       "    <tr>\n",
       "      <th>min</th>\n",
       "      <td>0.000000e+00</td>\n",
       "      <td>1.000000e+00</td>\n",
       "      <td>0.000000</td>\n",
       "      <td>0.000000</td>\n",
       "    </tr>\n",
       "    <tr>\n",
       "      <th>25%</th>\n",
       "      <td>4.450000e+00</td>\n",
       "      <td>1.000000e+00</td>\n",
       "      <td>2.572500</td>\n",
       "      <td>0.000000</td>\n",
       "    </tr>\n",
       "    <tr>\n",
       "      <th>50%</th>\n",
       "      <td>1.500000e+01</td>\n",
       "      <td>5.000000e+00</td>\n",
       "      <td>3.400000</td>\n",
       "      <td>0.000000</td>\n",
       "    </tr>\n",
       "    <tr>\n",
       "      <th>75%</th>\n",
       "      <td>8.700000e+01</td>\n",
       "      <td>3.200000e+01</td>\n",
       "      <td>4.240000</td>\n",
       "      <td>1.000000</td>\n",
       "    </tr>\n",
       "    <tr>\n",
       "      <th>max</th>\n",
       "      <td>1.602000e+07</td>\n",
       "      <td>3.613989e+06</td>\n",
       "      <td>11.250000</td>\n",
       "      <td>1.000000</td>\n",
       "    </tr>\n",
       "  </tbody>\n",
       "</table>\n",
       "</div>"
      ],
      "text/plain": [
       "        local_price     dollar_ex  dollar_price  Bigmac_Caro\n",
       "count  1.946000e+03  1.946000e+03   1946.000000  1946.000000\n",
       "mean   1.581609e+04  4.722255e+03      3.568011     0.303186\n",
       "std    3.940050e+05  1.006232e+05      1.417054     0.459753\n",
       "min    0.000000e+00  1.000000e+00      0.000000     0.000000\n",
       "25%    4.450000e+00  1.000000e+00      2.572500     0.000000\n",
       "50%    1.500000e+01  5.000000e+00      3.400000     0.000000\n",
       "75%    8.700000e+01  3.200000e+01      4.240000     1.000000\n",
       "max    1.602000e+07  3.613989e+06     11.250000     1.000000"
      ]
     },
     "execution_count": 53,
     "metadata": {},
     "output_type": "execute_result"
    }
   ],
   "source": [
    "df.describe()"
   ]
  },
  {
   "cell_type": "markdown",
   "id": "8c0db8d9",
   "metadata": {},
   "source": [
    "**Vamos criar um intervalo com 95% de confiança da proporção de caros.**"
   ]
  },
  {
   "cell_type": "code",
   "execution_count": 54,
   "id": "7bd595e2",
   "metadata": {},
   "outputs": [
    {
     "name": "stdout",
     "output_type": "stream",
     "text": [
      "Proporção de Big Mac's caros: 0.30318602261048305\n",
      "Desvio padrão da Proporção de Big Mac's caros: 0.4596349184995835\n"
     ]
    }
   ],
   "source": [
    "bigmac_caro_prop = df['Bigmac_Caro'].mean()\n",
    "bigmac_caro_prop_desv_padrao = (bigmac_caro_prop*(1-bigmac_caro_prop))**0.5\n",
    "\n",
    "print(f\"Proporção de Big Mac's caros: {bigmac_caro_prop}\")\n",
    "print(f\"Desvio padrão da Proporção de Big Mac's caros: {bigmac_caro_prop_desv_padrao}\")"
   ]
  },
  {
   "cell_type": "code",
   "execution_count": 56,
   "id": "bf7d0eab",
   "metadata": {},
   "outputs": [
    {
     "name": "stdout",
     "output_type": "stream",
     "text": [
      "Intervalo de 95% de Confiança para Proporção: (0.2827517102177196, 0.3236203350032465)\n"
     ]
    }
   ],
   "source": [
    "from scipy.stats import t\n",
    "\n",
    "# df = graus de liberdade , que vai ser o tamanho da amostra menos 1.\n",
    "# loc = média da amostra\n",
    "# scale = desvio padrão da amostra\n",
    "\n",
    "graus_de_liberdade = df.shape[0] - 1\n",
    "\n",
    "intervalo_95_big_mac_prop = t.interval(0.95 , \n",
    "                                  df = graus_de_liberdade,\n",
    "                                  loc = bigmac_caro_prop,\n",
    "                                  scale = bigmac_caro_prop_desv_padrao/(df.shape[0]**0.5))\n",
    "\n",
    "\n",
    "print(f'Intervalo de 95% de Confiança para Proporção: {intervalo_95_big_mac_prop}')"
   ]
  },
  {
   "cell_type": "code",
   "execution_count": 57,
   "id": "2bbfa777",
   "metadata": {},
   "outputs": [
    {
     "name": "stdout",
     "output_type": "stream",
     "text": [
      "Margem de erro do intervalo: 0.020434312392763443\n"
     ]
    }
   ],
   "source": [
    "margem_de_erro_big_mac_prop = intervalo_95_big_mac_prop[1] - bigmac_caro_prop\n",
    "print(f'Margem de erro do intervalo: {margem_de_erro_big_mac_prop}')"
   ]
  }
 ],
 "metadata": {
  "kernelspec": {
   "display_name": "Python 3 (ipykernel)",
   "language": "python",
   "name": "python3"
  },
  "language_info": {
   "codemirror_mode": {
    "name": "ipython",
    "version": 3
   },
   "file_extension": ".py",
   "mimetype": "text/x-python",
   "name": "python",
   "nbconvert_exporter": "python",
   "pygments_lexer": "ipython3",
   "version": "3.11.5"
  }
 },
 "nbformat": 4,
 "nbformat_minor": 5
}
