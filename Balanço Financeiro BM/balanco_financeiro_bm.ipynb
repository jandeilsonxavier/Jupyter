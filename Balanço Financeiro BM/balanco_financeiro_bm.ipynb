{
 "cells": [
  {
   "cell_type": "code",
   "execution_count": 2,
   "id": "76a39bbc",
   "metadata": {},
   "outputs": [],
   "source": [
    "import pandas as pd "
   ]
  },
  {
   "cell_type": "code",
   "execution_count": 30,
   "id": "ae3c2cda",
   "metadata": {},
   "outputs": [],
   "source": [
    "dados = {\n",
    "    'mes':[],\n",
    "    'ano':[],\n",
    "    'caixa': [],\n",
    "    'receber': [],\n",
    "    'vendas': [],\n",
    "    'estoque': [],\n",
    "    'saidas': [],\n",
    "    'frete': []\n",
    "}"
   ]
  },
  {
   "cell_type": "code",
   "execution_count": 56,
   "id": "b89e5f05",
   "metadata": {},
   "outputs": [],
   "source": [
    "df = pd.DataFrame(dados)"
   ]
  },
  {
   "cell_type": "code",
   "execution_count": 32,
   "id": "1d9c4b42",
   "metadata": {},
   "outputs": [],
   "source": [
    "df.to_csv('dados_financeiros_bm.csv', index=False)"
   ]
  },
  {
   "cell_type": "code",
   "execution_count": 13,
   "id": "9d5a7309",
   "metadata": {},
   "outputs": [],
   "source": [
    "nova_linha = {'mes':'agosto',\n",
    "              'ano':2023,\n",
    "              'caixa':2857.25, \n",
    "              'receber': 203.53, \n",
    "              'vendas': 1804.59, \n",
    "              'estoque': 17577.15, \n",
    "              'saidas': 253.86, \n",
    "              'frete': 0}"
   ]
  },
  {
   "cell_type": "code",
   "execution_count": 9,
   "id": "a025dac1",
   "metadata": {},
   "outputs": [],
   "source": [
    "df = pd.read_csv('dados_financeiros_bm.csv')"
   ]
  },
  {
   "cell_type": "code",
   "execution_count": 39,
   "id": "74f2b563",
   "metadata": {},
   "outputs": [],
   "source": [
    "lista=['setembro',2025,568.65,789.65,789.36,123.65,25.69,5]"
   ]
  },
  {
   "cell_type": "code",
   "execution_count": 55,
   "id": "edb6e0fd",
   "metadata": {},
   "outputs": [
    {
     "data": {
      "text/html": [
       "<div>\n",
       "<style scoped>\n",
       "    .dataframe tbody tr th:only-of-type {\n",
       "        vertical-align: middle;\n",
       "    }\n",
       "\n",
       "    .dataframe tbody tr th {\n",
       "        vertical-align: top;\n",
       "    }\n",
       "\n",
       "    .dataframe thead th {\n",
       "        text-align: right;\n",
       "    }\n",
       "</style>\n",
       "<table border=\"1\" class=\"dataframe\">\n",
       "  <thead>\n",
       "    <tr style=\"text-align: right;\">\n",
       "      <th></th>\n",
       "      <th>mes</th>\n",
       "      <th>ano</th>\n",
       "      <th>caixa</th>\n",
       "      <th>receber</th>\n",
       "      <th>vendas</th>\n",
       "      <th>estoque</th>\n",
       "      <th>saidas</th>\n",
       "      <th>frete</th>\n",
       "    </tr>\n",
       "  </thead>\n",
       "  <tbody>\n",
       "    <tr>\n",
       "      <th>0</th>\n",
       "      <td>setembro</td>\n",
       "      <td>2025</td>\n",
       "      <td>568.65</td>\n",
       "      <td>789.65</td>\n",
       "      <td>789.36</td>\n",
       "      <td>123.65</td>\n",
       "      <td>25.69</td>\n",
       "      <td>5</td>\n",
       "    </tr>\n",
       "    <tr>\n",
       "      <th>1</th>\n",
       "      <td>setembro</td>\n",
       "      <td>2025</td>\n",
       "      <td>568.65</td>\n",
       "      <td>789.65</td>\n",
       "      <td>789.36</td>\n",
       "      <td>123.65</td>\n",
       "      <td>25.69</td>\n",
       "      <td>5</td>\n",
       "    </tr>\n",
       "    <tr>\n",
       "      <th>2</th>\n",
       "      <td>setembro</td>\n",
       "      <td>2025</td>\n",
       "      <td>568.65</td>\n",
       "      <td>789.65</td>\n",
       "      <td>789.36</td>\n",
       "      <td>123.65</td>\n",
       "      <td>25.69</td>\n",
       "      <td>5</td>\n",
       "    </tr>\n",
       "    <tr>\n",
       "      <th>3</th>\n",
       "      <td>setembro</td>\n",
       "      <td>2025</td>\n",
       "      <td>568.65</td>\n",
       "      <td>789.65</td>\n",
       "      <td>789.36</td>\n",
       "      <td>123.65</td>\n",
       "      <td>25.69</td>\n",
       "      <td>5</td>\n",
       "    </tr>\n",
       "    <tr>\n",
       "      <th>4</th>\n",
       "      <td>setembro</td>\n",
       "      <td>2025</td>\n",
       "      <td>568.65</td>\n",
       "      <td>789.65</td>\n",
       "      <td>789.36</td>\n",
       "      <td>123.65</td>\n",
       "      <td>25.69</td>\n",
       "      <td>5</td>\n",
       "    </tr>\n",
       "    <tr>\n",
       "      <th>5</th>\n",
       "      <td>setembro</td>\n",
       "      <td>2025</td>\n",
       "      <td>568.65</td>\n",
       "      <td>789.65</td>\n",
       "      <td>789.36</td>\n",
       "      <td>123.65</td>\n",
       "      <td>25.69</td>\n",
       "      <td>5</td>\n",
       "    </tr>\n",
       "    <tr>\n",
       "      <th>6</th>\n",
       "      <td>setembro</td>\n",
       "      <td>2025</td>\n",
       "      <td>568.65</td>\n",
       "      <td>789.65</td>\n",
       "      <td>789.36</td>\n",
       "      <td>123.65</td>\n",
       "      <td>25.69</td>\n",
       "      <td>5</td>\n",
       "    </tr>\n",
       "  </tbody>\n",
       "</table>\n",
       "</div>"
      ],
      "text/plain": [
       "        mes   ano   caixa  receber  vendas  estoque  saidas  frete\n",
       "0  setembro  2025  568.65   789.65  789.36   123.65   25.69      5\n",
       "1  setembro  2025  568.65   789.65  789.36   123.65   25.69      5\n",
       "2  setembro  2025  568.65   789.65  789.36   123.65   25.69      5\n",
       "3  setembro  2025  568.65   789.65  789.36   123.65   25.69      5\n",
       "4  setembro  2025  568.65   789.65  789.36   123.65   25.69      5\n",
       "5  setembro  2025  568.65   789.65  789.36   123.65   25.69      5\n",
       "6  setembro  2025  568.65   789.65  789.36   123.65   25.69      5"
      ]
     },
     "execution_count": 55,
     "metadata": {},
     "output_type": "execute_result"
    }
   ],
   "source": [
    "df.loc[len(df)] = lista\n",
    "df"
   ]
  },
  {
   "cell_type": "code",
   "execution_count": 57,
   "id": "fbecfb1d",
   "metadata": {},
   "outputs": [
    {
     "data": {
      "text/html": [
       "<div>\n",
       "<style scoped>\n",
       "    .dataframe tbody tr th:only-of-type {\n",
       "        vertical-align: middle;\n",
       "    }\n",
       "\n",
       "    .dataframe tbody tr th {\n",
       "        vertical-align: top;\n",
       "    }\n",
       "\n",
       "    .dataframe thead th {\n",
       "        text-align: right;\n",
       "    }\n",
       "</style>\n",
       "<table border=\"1\" class=\"dataframe\">\n",
       "  <thead>\n",
       "    <tr style=\"text-align: right;\">\n",
       "      <th></th>\n",
       "      <th>mes</th>\n",
       "      <th>ano</th>\n",
       "      <th>caixa</th>\n",
       "      <th>receber</th>\n",
       "      <th>vendas</th>\n",
       "      <th>estoque</th>\n",
       "      <th>saidas</th>\n",
       "      <th>frete</th>\n",
       "    </tr>\n",
       "  </thead>\n",
       "  <tbody>\n",
       "  </tbody>\n",
       "</table>\n",
       "</div>"
      ],
      "text/plain": [
       "Empty DataFrame\n",
       "Columns: [mes, ano, caixa, receber, vendas, estoque, saidas, frete]\n",
       "Index: []"
      ]
     },
     "execution_count": 57,
     "metadata": {},
     "output_type": "execute_result"
    }
   ],
   "source": [
    "df"
   ]
  }
 ],
 "metadata": {
  "kernelspec": {
   "display_name": "Python 3 (ipykernel)",
   "language": "python",
   "name": "python3"
  },
  "language_info": {
   "codemirror_mode": {
    "name": "ipython",
    "version": 3
   },
   "file_extension": ".py",
   "mimetype": "text/x-python",
   "name": "python",
   "nbconvert_exporter": "python",
   "pygments_lexer": "ipython3",
   "version": "3.11.5"
  }
 },
 "nbformat": 4,
 "nbformat_minor": 5
}
