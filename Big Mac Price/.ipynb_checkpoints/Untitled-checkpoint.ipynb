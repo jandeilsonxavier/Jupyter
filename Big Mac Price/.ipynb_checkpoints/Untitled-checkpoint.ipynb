{
 "cells": [
  {
   "cell_type": "code",
   "execution_count": 2,
   "id": "bf975a5d",
   "metadata": {},
   "outputs": [],
   "source": [
    "import pandas as pd "
   ]
  },
  {
   "cell_type": "code",
   "execution_count": 2,
   "id": "67fa884e",
   "metadata": {},
   "outputs": [],
   "source": [
    "df = pd.read_csv('BigmacPrice.csv')"
   ]
  },
  {
   "cell_type": "code",
   "execution_count": 3,
   "id": "17140acd",
   "metadata": {},
   "outputs": [
    {
     "data": {
      "text/html": [
       "<div>\n",
       "<style scoped>\n",
       "    .dataframe tbody tr th:only-of-type {\n",
       "        vertical-align: middle;\n",
       "    }\n",
       "\n",
       "    .dataframe tbody tr th {\n",
       "        vertical-align: top;\n",
       "    }\n",
       "\n",
       "    .dataframe thead th {\n",
       "        text-align: right;\n",
       "    }\n",
       "</style>\n",
       "<table border=\"1\" class=\"dataframe\">\n",
       "  <thead>\n",
       "    <tr style=\"text-align: right;\">\n",
       "      <th></th>\n",
       "      <th>date</th>\n",
       "      <th>currency_code</th>\n",
       "      <th>name</th>\n",
       "      <th>local_price</th>\n",
       "      <th>dollar_ex</th>\n",
       "      <th>dollar_price</th>\n",
       "    </tr>\n",
       "  </thead>\n",
       "  <tbody>\n",
       "    <tr>\n",
       "      <th>0</th>\n",
       "      <td>2000-04-01</td>\n",
       "      <td>ARS</td>\n",
       "      <td>Argentina</td>\n",
       "      <td>2.50</td>\n",
       "      <td>1</td>\n",
       "      <td>2.50</td>\n",
       "    </tr>\n",
       "    <tr>\n",
       "      <th>1</th>\n",
       "      <td>2000-04-01</td>\n",
       "      <td>AUD</td>\n",
       "      <td>Australia</td>\n",
       "      <td>2.59</td>\n",
       "      <td>1</td>\n",
       "      <td>2.59</td>\n",
       "    </tr>\n",
       "    <tr>\n",
       "      <th>2</th>\n",
       "      <td>2000-04-01</td>\n",
       "      <td>BRL</td>\n",
       "      <td>Brazil</td>\n",
       "      <td>2.95</td>\n",
       "      <td>1</td>\n",
       "      <td>2.95</td>\n",
       "    </tr>\n",
       "    <tr>\n",
       "      <th>3</th>\n",
       "      <td>2000-04-01</td>\n",
       "      <td>GBP</td>\n",
       "      <td>Britain</td>\n",
       "      <td>1.90</td>\n",
       "      <td>1</td>\n",
       "      <td>1.90</td>\n",
       "    </tr>\n",
       "    <tr>\n",
       "      <th>4</th>\n",
       "      <td>2000-04-01</td>\n",
       "      <td>CAD</td>\n",
       "      <td>Canada</td>\n",
       "      <td>2.85</td>\n",
       "      <td>1</td>\n",
       "      <td>2.85</td>\n",
       "    </tr>\n",
       "  </tbody>\n",
       "</table>\n",
       "</div>"
      ],
      "text/plain": [
       "         date currency_code       name  local_price  dollar_ex  dollar_price\n",
       "0  2000-04-01           ARS  Argentina         2.50          1          2.50\n",
       "1  2000-04-01           AUD  Australia         2.59          1          2.59\n",
       "2  2000-04-01           BRL     Brazil         2.95          1          2.95\n",
       "3  2000-04-01           GBP    Britain         1.90          1          1.90\n",
       "4  2000-04-01           CAD     Canada         2.85          1          2.85"
      ]
     },
     "execution_count": 3,
     "metadata": {},
     "output_type": "execute_result"
    }
   ],
   "source": [
    "df.head()"
   ]
  },
  {
   "cell_type": "code",
   "execution_count": 4,
   "id": "31f27206",
   "metadata": {},
   "outputs": [
    {
     "data": {
      "text/plain": [
       "date              object\n",
       "currency_code     object\n",
       "name              object\n",
       "local_price      float64\n",
       "dollar_ex          int64\n",
       "dollar_price     float64\n",
       "dtype: object"
      ]
     },
     "execution_count": 4,
     "metadata": {},
     "output_type": "execute_result"
    }
   ],
   "source": [
    "df.dtypes"
   ]
  },
  {
   "cell_type": "code",
   "execution_count": 5,
   "id": "c0e5f838",
   "metadata": {},
   "outputs": [
    {
     "data": {
      "text/plain": [
       "pandas.core.frame.DataFrame"
      ]
     },
     "execution_count": 5,
     "metadata": {},
     "output_type": "execute_result"
    }
   ],
   "source": [
    "type(df)"
   ]
  },
  {
   "cell_type": "code",
   "execution_count": 6,
   "id": "c4749586",
   "metadata": {},
   "outputs": [
    {
     "data": {
      "text/plain": [
       "date             1946\n",
       "currency_code    1946\n",
       "name             1946\n",
       "local_price      1946\n",
       "dollar_ex        1946\n",
       "dollar_price     1946\n",
       "dtype: int64"
      ]
     },
     "execution_count": 6,
     "metadata": {},
     "output_type": "execute_result"
    }
   ],
   "source": [
    "df.count()"
   ]
  },
  {
   "cell_type": "code",
   "execution_count": 14,
   "id": "62c30b05",
   "metadata": {},
   "outputs": [],
   "source": [
    "df_filtered = df[df['date'] == '2022-07-01']"
   ]
  },
  {
   "cell_type": "code",
   "execution_count": 8,
   "id": "ec2e876a",
   "metadata": {},
   "outputs": [
    {
     "data": {
      "text/html": [
       "<div>\n",
       "<style scoped>\n",
       "    .dataframe tbody tr th:only-of-type {\n",
       "        vertical-align: middle;\n",
       "    }\n",
       "\n",
       "    .dataframe tbody tr th {\n",
       "        vertical-align: top;\n",
       "    }\n",
       "\n",
       "    .dataframe thead th {\n",
       "        text-align: right;\n",
       "    }\n",
       "</style>\n",
       "<table border=\"1\" class=\"dataframe\">\n",
       "  <thead>\n",
       "    <tr style=\"text-align: right;\">\n",
       "      <th></th>\n",
       "      <th>date</th>\n",
       "      <th>currency_code</th>\n",
       "      <th>name</th>\n",
       "      <th>local_price</th>\n",
       "      <th>dollar_ex</th>\n",
       "      <th>dollar_price</th>\n",
       "    </tr>\n",
       "  </thead>\n",
       "  <tbody>\n",
       "    <tr>\n",
       "      <th>1876</th>\n",
       "      <td>2022-07-01</td>\n",
       "      <td>ARS</td>\n",
       "      <td>Argentina</td>\n",
       "      <td>590.00</td>\n",
       "      <td>129</td>\n",
       "      <td>4.57</td>\n",
       "    </tr>\n",
       "    <tr>\n",
       "      <th>1877</th>\n",
       "      <td>2022-07-01</td>\n",
       "      <td>AUD</td>\n",
       "      <td>Australia</td>\n",
       "      <td>6.70</td>\n",
       "      <td>1</td>\n",
       "      <td>6.70</td>\n",
       "    </tr>\n",
       "    <tr>\n",
       "      <th>1878</th>\n",
       "      <td>2022-07-01</td>\n",
       "      <td>EUR</td>\n",
       "      <td>Austria</td>\n",
       "      <td>4.35</td>\n",
       "      <td>1</td>\n",
       "      <td>4.35</td>\n",
       "    </tr>\n",
       "    <tr>\n",
       "      <th>1879</th>\n",
       "      <td>2022-07-01</td>\n",
       "      <td>AZN</td>\n",
       "      <td>Azerbaijan</td>\n",
       "      <td>4.70</td>\n",
       "      <td>1</td>\n",
       "      <td>4.70</td>\n",
       "    </tr>\n",
       "    <tr>\n",
       "      <th>1880</th>\n",
       "      <td>2022-07-01</td>\n",
       "      <td>BHD</td>\n",
       "      <td>Bahrain</td>\n",
       "      <td>1.60</td>\n",
       "      <td>1</td>\n",
       "      <td>1.60</td>\n",
       "    </tr>\n",
       "  </tbody>\n",
       "</table>\n",
       "</div>"
      ],
      "text/plain": [
       "            date currency_code        name  local_price  dollar_ex  \\\n",
       "1876  2022-07-01           ARS   Argentina       590.00        129   \n",
       "1877  2022-07-01           AUD   Australia         6.70          1   \n",
       "1878  2022-07-01           EUR     Austria         4.35          1   \n",
       "1879  2022-07-01           AZN  Azerbaijan         4.70          1   \n",
       "1880  2022-07-01           BHD     Bahrain         1.60          1   \n",
       "\n",
       "      dollar_price  \n",
       "1876          4.57  \n",
       "1877          6.70  \n",
       "1878          4.35  \n",
       "1879          4.70  \n",
       "1880          1.60  "
      ]
     },
     "execution_count": 8,
     "metadata": {},
     "output_type": "execute_result"
    }
   ],
   "source": [
    "df_filtered.head()"
   ]
  },
  {
   "cell_type": "code",
   "execution_count": 15,
   "id": "9d99b796",
   "metadata": {},
   "outputs": [
    {
     "data": {
      "text/plain": [
       "date             70\n",
       "currency_code    70\n",
       "name             70\n",
       "local_price      70\n",
       "dollar_ex        70\n",
       "dollar_price     70\n",
       "dtype: int64"
      ]
     },
     "execution_count": 15,
     "metadata": {},
     "output_type": "execute_result"
    }
   ],
   "source": [
    "df_filtered.count()"
   ]
  },
  {
   "cell_type": "code",
   "execution_count": 29,
   "id": "c6ba924a",
   "metadata": {},
   "outputs": [],
   "source": [
    "df_group = df_filtered.groupby('name')"
   ]
  },
  {
   "cell_type": "code",
   "execution_count": 33,
   "id": "3e844fb5",
   "metadata": {},
   "outputs": [
    {
     "data": {
      "text/html": [
       "<div>\n",
       "<style scoped>\n",
       "    .dataframe tbody tr th:only-of-type {\n",
       "        vertical-align: middle;\n",
       "    }\n",
       "\n",
       "    .dataframe tbody tr th {\n",
       "        vertical-align: top;\n",
       "    }\n",
       "\n",
       "    .dataframe thead th {\n",
       "        text-align: right;\n",
       "    }\n",
       "</style>\n",
       "<table border=\"1\" class=\"dataframe\">\n",
       "  <thead>\n",
       "    <tr style=\"text-align: right;\">\n",
       "      <th></th>\n",
       "      <th>date</th>\n",
       "      <th>currency_code</th>\n",
       "      <th>name</th>\n",
       "      <th>local_price</th>\n",
       "      <th>dollar_ex</th>\n",
       "      <th>dollar_price</th>\n",
       "    </tr>\n",
       "  </thead>\n",
       "  <tbody>\n",
       "    <tr>\n",
       "      <th>1876</th>\n",
       "      <td>2022-07-01</td>\n",
       "      <td>ARS</td>\n",
       "      <td>Argentina</td>\n",
       "      <td>590.00</td>\n",
       "      <td>129</td>\n",
       "      <td>4.57</td>\n",
       "    </tr>\n",
       "    <tr>\n",
       "      <th>1877</th>\n",
       "      <td>2022-07-01</td>\n",
       "      <td>AUD</td>\n",
       "      <td>Australia</td>\n",
       "      <td>6.70</td>\n",
       "      <td>1</td>\n",
       "      <td>6.70</td>\n",
       "    </tr>\n",
       "    <tr>\n",
       "      <th>1878</th>\n",
       "      <td>2022-07-01</td>\n",
       "      <td>EUR</td>\n",
       "      <td>Austria</td>\n",
       "      <td>4.35</td>\n",
       "      <td>1</td>\n",
       "      <td>4.35</td>\n",
       "    </tr>\n",
       "    <tr>\n",
       "      <th>1879</th>\n",
       "      <td>2022-07-01</td>\n",
       "      <td>AZN</td>\n",
       "      <td>Azerbaijan</td>\n",
       "      <td>4.70</td>\n",
       "      <td>1</td>\n",
       "      <td>4.70</td>\n",
       "    </tr>\n",
       "    <tr>\n",
       "      <th>1880</th>\n",
       "      <td>2022-07-01</td>\n",
       "      <td>BHD</td>\n",
       "      <td>Bahrain</td>\n",
       "      <td>1.60</td>\n",
       "      <td>1</td>\n",
       "      <td>1.60</td>\n",
       "    </tr>\n",
       "    <tr>\n",
       "      <th>...</th>\n",
       "      <td>...</td>\n",
       "      <td>...</td>\n",
       "      <td>...</td>\n",
       "      <td>...</td>\n",
       "      <td>...</td>\n",
       "      <td>...</td>\n",
       "    </tr>\n",
       "    <tr>\n",
       "      <th>1941</th>\n",
       "      <td>2022-07-01</td>\n",
       "      <td>AED</td>\n",
       "      <td>United Arab Emirates</td>\n",
       "      <td>18.00</td>\n",
       "      <td>3</td>\n",
       "      <td>6.00</td>\n",
       "    </tr>\n",
       "    <tr>\n",
       "      <th>1942</th>\n",
       "      <td>2022-07-01</td>\n",
       "      <td>USD</td>\n",
       "      <td>United States</td>\n",
       "      <td>5.15</td>\n",
       "      <td>1</td>\n",
       "      <td>5.15</td>\n",
       "    </tr>\n",
       "    <tr>\n",
       "      <th>1943</th>\n",
       "      <td>2022-07-01</td>\n",
       "      <td>UYU</td>\n",
       "      <td>Uruguay</td>\n",
       "      <td>255.00</td>\n",
       "      <td>41</td>\n",
       "      <td>6.22</td>\n",
       "    </tr>\n",
       "    <tr>\n",
       "      <th>1944</th>\n",
       "      <td>2022-07-01</td>\n",
       "      <td>VES</td>\n",
       "      <td>Venezuela</td>\n",
       "      <td>10.00</td>\n",
       "      <td>5</td>\n",
       "      <td>2.00</td>\n",
       "    </tr>\n",
       "    <tr>\n",
       "      <th>1945</th>\n",
       "      <td>2022-07-01</td>\n",
       "      <td>VND</td>\n",
       "      <td>Vietnam</td>\n",
       "      <td>69000.00</td>\n",
       "      <td>23417</td>\n",
       "      <td>2.95</td>\n",
       "    </tr>\n",
       "  </tbody>\n",
       "</table>\n",
       "<p>70 rows × 6 columns</p>\n",
       "</div>"
      ],
      "text/plain": [
       "            date currency_code                  name  local_price  dollar_ex  \\\n",
       "1876  2022-07-01           ARS             Argentina       590.00        129   \n",
       "1877  2022-07-01           AUD             Australia         6.70          1   \n",
       "1878  2022-07-01           EUR               Austria         4.35          1   \n",
       "1879  2022-07-01           AZN            Azerbaijan         4.70          1   \n",
       "1880  2022-07-01           BHD               Bahrain         1.60          1   \n",
       "...          ...           ...                   ...          ...        ...   \n",
       "1941  2022-07-01           AED  United Arab Emirates        18.00          3   \n",
       "1942  2022-07-01           USD         United States         5.15          1   \n",
       "1943  2022-07-01           UYU               Uruguay       255.00         41   \n",
       "1944  2022-07-01           VES             Venezuela        10.00          5   \n",
       "1945  2022-07-01           VND               Vietnam     69000.00      23417   \n",
       "\n",
       "      dollar_price  \n",
       "1876          4.57  \n",
       "1877          6.70  \n",
       "1878          4.35  \n",
       "1879          4.70  \n",
       "1880          1.60  \n",
       "...            ...  \n",
       "1941          6.00  \n",
       "1942          5.15  \n",
       "1943          6.22  \n",
       "1944          2.00  \n",
       "1945          2.95  \n",
       "\n",
       "[70 rows x 6 columns]"
      ]
     },
     "execution_count": 33,
     "metadata": {},
     "output_type": "execute_result"
    }
   ],
   "source": [
    "df_group.head()"
   ]
  },
  {
   "cell_type": "code",
   "execution_count": 34,
   "id": "5b27894d",
   "metadata": {},
   "outputs": [],
   "source": [
    "df_filtered.to_csv('BigmacPriceJuly2022.csv', index = False)"
   ]
  },
  {
   "cell_type": "code",
   "execution_count": 44,
   "id": "b53ec2ff",
   "metadata": {},
   "outputs": [],
   "source": [
    "df = pd.read_csv('BigmacPriceJuly2022.csv')"
   ]
  },
  {
   "cell_type": "code",
   "execution_count": 45,
   "id": "0a29fbb7",
   "metadata": {},
   "outputs": [
    {
     "data": {
      "text/plain": [
       "0    4.00\n",
       "1    4.58\n",
       "Name: dollar_price, dtype: float64"
      ]
     },
     "execution_count": 45,
     "metadata": {},
     "output_type": "execute_result"
    }
   ],
   "source": [
    "df['dollar_price'].mode()"
   ]
  },
  {
   "cell_type": "code",
   "execution_count": 47,
   "id": "aa1773a9",
   "metadata": {},
   "outputs": [
    {
     "data": {
      "text/plain": [
       "dollar_price\n",
       "4.58    3\n",
       "4.00    3\n",
       "3.50    2\n",
       "5.67    2\n",
       "3.71    2\n",
       "       ..\n",
       "2.85    1\n",
       "2.30    1\n",
       "1.30    1\n",
       "6.70    1\n",
       "2.95    1\n",
       "Name: count, Length: 61, dtype: int64"
      ]
     },
     "execution_count": 47,
     "metadata": {},
     "output_type": "execute_result"
    }
   ],
   "source": [
    "df['dollar_price'].value_counts()"
   ]
  },
  {
   "cell_type": "code",
   "execution_count": 48,
   "id": "59913825",
   "metadata": {},
   "outputs": [
    {
     "data": {
      "text/plain": [
       "4.003571428571429"
      ]
     },
     "execution_count": 48,
     "metadata": {},
     "output_type": "execute_result"
    }
   ],
   "source": [
    "df['dollar_price'].mean()"
   ]
  },
  {
   "cell_type": "code",
   "execution_count": 50,
   "id": "e604b788",
   "metadata": {
    "scrolled": true
   },
   "outputs": [
    {
     "data": {
      "text/plain": [
       "3.9050000000000002"
      ]
     },
     "execution_count": 50,
     "metadata": {},
     "output_type": "execute_result"
    }
   ],
   "source": [
    "df['dollar_price'].median()"
   ]
  },
  {
   "cell_type": "code",
   "execution_count": 1,
   "id": "00c880a4",
   "metadata": {},
   "outputs": [],
   "source": [
    "import numpy as np"
   ]
  },
  {
   "cell_type": "code",
   "execution_count": 3,
   "id": "c93b4013",
   "metadata": {},
   "outputs": [],
   "source": [
    "df = pd.read_csv('BigmacPriceJuly2022.csv')"
   ]
  },
  {
   "cell_type": "code",
   "execution_count": 4,
   "id": "92fb52ce",
   "metadata": {},
   "outputs": [
    {
     "data": {
      "text/html": [
       "<div>\n",
       "<style scoped>\n",
       "    .dataframe tbody tr th:only-of-type {\n",
       "        vertical-align: middle;\n",
       "    }\n",
       "\n",
       "    .dataframe tbody tr th {\n",
       "        vertical-align: top;\n",
       "    }\n",
       "\n",
       "    .dataframe thead th {\n",
       "        text-align: right;\n",
       "    }\n",
       "</style>\n",
       "<table border=\"1\" class=\"dataframe\">\n",
       "  <thead>\n",
       "    <tr style=\"text-align: right;\">\n",
       "      <th></th>\n",
       "      <th>date</th>\n",
       "      <th>currency_code</th>\n",
       "      <th>name</th>\n",
       "      <th>local_price</th>\n",
       "      <th>dollar_ex</th>\n",
       "      <th>dollar_price</th>\n",
       "    </tr>\n",
       "  </thead>\n",
       "  <tbody>\n",
       "    <tr>\n",
       "      <th>0</th>\n",
       "      <td>2022-07-01</td>\n",
       "      <td>ARS</td>\n",
       "      <td>Argentina</td>\n",
       "      <td>590.00</td>\n",
       "      <td>129</td>\n",
       "      <td>4.57</td>\n",
       "    </tr>\n",
       "    <tr>\n",
       "      <th>1</th>\n",
       "      <td>2022-07-01</td>\n",
       "      <td>AUD</td>\n",
       "      <td>Australia</td>\n",
       "      <td>6.70</td>\n",
       "      <td>1</td>\n",
       "      <td>6.70</td>\n",
       "    </tr>\n",
       "    <tr>\n",
       "      <th>2</th>\n",
       "      <td>2022-07-01</td>\n",
       "      <td>EUR</td>\n",
       "      <td>Austria</td>\n",
       "      <td>4.35</td>\n",
       "      <td>1</td>\n",
       "      <td>4.35</td>\n",
       "    </tr>\n",
       "    <tr>\n",
       "      <th>3</th>\n",
       "      <td>2022-07-01</td>\n",
       "      <td>AZN</td>\n",
       "      <td>Azerbaijan</td>\n",
       "      <td>4.70</td>\n",
       "      <td>1</td>\n",
       "      <td>4.70</td>\n",
       "    </tr>\n",
       "    <tr>\n",
       "      <th>4</th>\n",
       "      <td>2022-07-01</td>\n",
       "      <td>BHD</td>\n",
       "      <td>Bahrain</td>\n",
       "      <td>1.60</td>\n",
       "      <td>1</td>\n",
       "      <td>1.60</td>\n",
       "    </tr>\n",
       "    <tr>\n",
       "      <th>...</th>\n",
       "      <td>...</td>\n",
       "      <td>...</td>\n",
       "      <td>...</td>\n",
       "      <td>...</td>\n",
       "      <td>...</td>\n",
       "      <td>...</td>\n",
       "    </tr>\n",
       "    <tr>\n",
       "      <th>65</th>\n",
       "      <td>2022-07-01</td>\n",
       "      <td>AED</td>\n",
       "      <td>United Arab Emirates</td>\n",
       "      <td>18.00</td>\n",
       "      <td>3</td>\n",
       "      <td>6.00</td>\n",
       "    </tr>\n",
       "    <tr>\n",
       "      <th>66</th>\n",
       "      <td>2022-07-01</td>\n",
       "      <td>USD</td>\n",
       "      <td>United States</td>\n",
       "      <td>5.15</td>\n",
       "      <td>1</td>\n",
       "      <td>5.15</td>\n",
       "    </tr>\n",
       "    <tr>\n",
       "      <th>67</th>\n",
       "      <td>2022-07-01</td>\n",
       "      <td>UYU</td>\n",
       "      <td>Uruguay</td>\n",
       "      <td>255.00</td>\n",
       "      <td>41</td>\n",
       "      <td>6.22</td>\n",
       "    </tr>\n",
       "    <tr>\n",
       "      <th>68</th>\n",
       "      <td>2022-07-01</td>\n",
       "      <td>VES</td>\n",
       "      <td>Venezuela</td>\n",
       "      <td>10.00</td>\n",
       "      <td>5</td>\n",
       "      <td>2.00</td>\n",
       "    </tr>\n",
       "    <tr>\n",
       "      <th>69</th>\n",
       "      <td>2022-07-01</td>\n",
       "      <td>VND</td>\n",
       "      <td>Vietnam</td>\n",
       "      <td>69000.00</td>\n",
       "      <td>23417</td>\n",
       "      <td>2.95</td>\n",
       "    </tr>\n",
       "  </tbody>\n",
       "</table>\n",
       "<p>70 rows × 6 columns</p>\n",
       "</div>"
      ],
      "text/plain": [
       "          date currency_code                  name  local_price  dollar_ex  \\\n",
       "0   2022-07-01           ARS             Argentina       590.00        129   \n",
       "1   2022-07-01           AUD             Australia         6.70          1   \n",
       "2   2022-07-01           EUR               Austria         4.35          1   \n",
       "3   2022-07-01           AZN            Azerbaijan         4.70          1   \n",
       "4   2022-07-01           BHD               Bahrain         1.60          1   \n",
       "..         ...           ...                   ...          ...        ...   \n",
       "65  2022-07-01           AED  United Arab Emirates        18.00          3   \n",
       "66  2022-07-01           USD         United States         5.15          1   \n",
       "67  2022-07-01           UYU               Uruguay       255.00         41   \n",
       "68  2022-07-01           VES             Venezuela        10.00          5   \n",
       "69  2022-07-01           VND               Vietnam     69000.00      23417   \n",
       "\n",
       "    dollar_price  \n",
       "0           4.57  \n",
       "1           6.70  \n",
       "2           4.35  \n",
       "3           4.70  \n",
       "4           1.60  \n",
       "..           ...  \n",
       "65          6.00  \n",
       "66          5.15  \n",
       "67          6.22  \n",
       "68          2.00  \n",
       "69          2.95  \n",
       "\n",
       "[70 rows x 6 columns]"
      ]
     },
     "execution_count": 4,
     "metadata": {},
     "output_type": "execute_result"
    }
   ],
   "source": [
    "df"
   ]
  },
  {
   "cell_type": "code",
   "execution_count": 9,
   "id": "e2e73453",
   "metadata": {},
   "outputs": [],
   "source": [
    "variancia_np = np.var(df['dollar_price'])"
   ]
  },
  {
   "cell_type": "code",
   "execution_count": 10,
   "id": "44a93d07",
   "metadata": {},
   "outputs": [
    {
     "data": {
      "text/plain": [
       "1.8050258163265305"
      ]
     },
     "execution_count": 10,
     "metadata": {},
     "output_type": "execute_result"
    }
   ],
   "source": [
    "variancia_np"
   ]
  },
  {
   "cell_type": "code",
   "execution_count": 11,
   "id": "88a402e3",
   "metadata": {},
   "outputs": [],
   "source": [
    "variancia_pd = df['dollar_price'].var()"
   ]
  },
  {
   "cell_type": "code",
   "execution_count": 12,
   "id": "550e466c",
   "metadata": {},
   "outputs": [
    {
     "data": {
      "text/plain": [
       "1.8311856107660454"
      ]
     },
     "execution_count": 12,
     "metadata": {},
     "output_type": "execute_result"
    }
   ],
   "source": [
    "variancia_pd"
   ]
  },
  {
   "cell_type": "code",
   "execution_count": 13,
   "id": "fe4bc8f8",
   "metadata": {},
   "outputs": [],
   "source": [
    "desvio_padrao_np = np.std(df['dollar_price'])\n",
    "desvio_padrao_pd = df['dollar_price'].std()"
   ]
  },
  {
   "cell_type": "code",
   "execution_count": 15,
   "id": "8f7bc605",
   "metadata": {},
   "outputs": [
    {
     "data": {
      "text/plain": [
       "1.3435124920619572"
      ]
     },
     "execution_count": 15,
     "metadata": {},
     "output_type": "execute_result"
    }
   ],
   "source": [
    "desvio_padrao_np"
   ]
  },
  {
   "cell_type": "code",
   "execution_count": null,
   "id": "7813c665",
   "metadata": {},
   "outputs": [],
   "source": []
  }
 ],
 "metadata": {
  "kernelspec": {
   "display_name": "Python 3 (ipykernel)",
   "language": "python",
   "name": "python3"
  },
  "language_info": {
   "codemirror_mode": {
    "name": "ipython",
    "version": 3
   },
   "file_extension": ".py",
   "mimetype": "text/x-python",
   "name": "python",
   "nbconvert_exporter": "python",
   "pygments_lexer": "ipython3",
   "version": "3.11.5"
  }
 },
 "nbformat": 4,
 "nbformat_minor": 5
}
