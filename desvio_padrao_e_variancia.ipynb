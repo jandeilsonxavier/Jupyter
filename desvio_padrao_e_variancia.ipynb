{
 "cells": [
  {
   "cell_type": "code",
   "execution_count": 1,
   "id": "2bac6b29-af24-427f-b814-77e7ff7c9131",
   "metadata": {
    "tags": []
   },
   "outputs": [],
   "source": [
    "import numpy as np"
   ]
  },
  {
   "cell_type": "code",
   "execution_count": 2,
   "id": "2ac7cd68-493f-463f-83c0-dd660b2cdc44",
   "metadata": {},
   "outputs": [],
   "source": [
    "dados = [1, 2, 3, 4, 5]"
   ]
  },
  {
   "cell_type": "code",
   "execution_count": 3,
   "id": "bc8089cd",
   "metadata": {},
   "outputs": [],
   "source": [
    "variancia = np.var(dados)"
   ]
  },
  {
   "cell_type": "code",
   "execution_count": 4,
   "id": "e65d9ead",
   "metadata": {},
   "outputs": [],
   "source": [
    "desvio_padrao = np.std(dados)"
   ]
  },
  {
   "cell_type": "code",
   "execution_count": 5,
   "id": "15e66af1",
   "metadata": {},
   "outputs": [
    {
     "name": "stdout",
     "output_type": "stream",
     "text": [
      "Variância: 2.0\n",
      "Desvio Padrão: 1.4142135623730951\n"
     ]
    }
   ],
   "source": [
    "print(f\"Variância: {variancia}\")\n",
    "print(f\"Desvio Padrão: {desvio_padrao}\")"
   ]
  }
 ],
 "metadata": {
  "kernelspec": {
   "display_name": "Python 3 (ipykernel)",
   "language": "python",
   "name": "python3"
  },
  "language_info": {
   "codemirror_mode": {
    "name": "ipython",
    "version": 3
   },
   "file_extension": ".py",
   "mimetype": "text/x-python",
   "name": "python",
   "nbconvert_exporter": "python",
   "pygments_lexer": "ipython3",
   "version": "3.11.5"
  }
 },
 "nbformat": 4,
 "nbformat_minor": 5
}
