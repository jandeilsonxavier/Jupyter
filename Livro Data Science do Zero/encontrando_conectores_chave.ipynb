{
 "cells": [
  {
   "cell_type": "code",
   "execution_count": 1,
   "id": "939be592",
   "metadata": {},
   "outputs": [],
   "source": [
    "users = [\n",
    "{ \"id\": 0, \"name\": \"Hero\" },\n",
    "{ \"id\": 1, \"name\": \"Dunn\" },\n",
    "{ \"id\": 2, \"name\": \"Sue\" },\n",
    "{ \"id\": 3, \"name\": \"Chi\" },\n",
    "{ \"id\": 4, \"name\": \"Thor\" },\n",
    "{ \"id\": 5, \"name\": \"Clive\" },\n",
    "{ \"id\": 6, \"name\": \"Hicks\" },\n",
    "{ \"id\": 7, \"name\": \"Devin\" },\n",
    "{ \"id\": 8, \"name\": \"Kate\" },\n",
    "{ \"id\": 9, \"name\": \"Klein\" }\n",
    "]"
   ]
  },
  {
   "cell_type": "code",
   "execution_count": 2,
   "id": "266e1192",
   "metadata": {},
   "outputs": [],
   "source": [
    "friendships = [(0, 1), (0, 2), (1, 2), (1, 3), (2, 3), (3, 4),\n",
    "(4, 5), (5, 6), (5, 7), (6, 8), (7, 8), (8, 9)]\n",
    "#Por exemplo, a tupla (0,1) indica que o cientista de dados com a id 0 (Hero) e o cientista de dados com a id 1 (Dunn) são amigos"
   ]
  },
  {
   "cell_type": "code",
   "execution_count": 3,
   "id": "b178254d",
   "metadata": {},
   "outputs": [],
   "source": [
    "for user in users:\n",
    "    user[\"friends\"] = []"
   ]
  },
  {
   "cell_type": "code",
   "execution_count": 4,
   "id": "80f12227",
   "metadata": {
    "scrolled": true
   },
   "outputs": [
    {
     "data": {
      "text/plain": [
       "[{'id': 0, 'name': 'Hero', 'friends': []},\n",
       " {'id': 1, 'name': 'Dunn', 'friends': []},\n",
       " {'id': 2, 'name': 'Sue', 'friends': []},\n",
       " {'id': 3, 'name': 'Chi', 'friends': []},\n",
       " {'id': 4, 'name': 'Thor', 'friends': []},\n",
       " {'id': 5, 'name': 'Clive', 'friends': []},\n",
       " {'id': 6, 'name': 'Hicks', 'friends': []},\n",
       " {'id': 7, 'name': 'Devin', 'friends': []},\n",
       " {'id': 8, 'name': 'Kate', 'friends': []},\n",
       " {'id': 9, 'name': 'Klein', 'friends': []}]"
      ]
     },
     "execution_count": 4,
     "metadata": {},
     "output_type": "execute_result"
    }
   ],
   "source": [
    "users"
   ]
  },
  {
   "cell_type": "code",
   "execution_count": 5,
   "id": "a5252061",
   "metadata": {},
   "outputs": [
    {
     "data": {
      "text/plain": [
       "[(0, 1),\n",
       " (0, 2),\n",
       " (1, 2),\n",
       " (1, 3),\n",
       " (2, 3),\n",
       " (3, 4),\n",
       " (4, 5),\n",
       " (5, 6),\n",
       " (5, 7),\n",
       " (6, 8),\n",
       " (7, 8),\n",
       " (8, 9)]"
      ]
     },
     "execution_count": 5,
     "metadata": {},
     "output_type": "execute_result"
    }
   ],
   "source": [
    "friendships"
   ]
  },
  {
   "cell_type": "code",
   "execution_count": 6,
   "id": "b6d5e991",
   "metadata": {},
   "outputs": [],
   "source": [
    "for i, j in friendships:\n",
    "    # isso funciona porque users[i] é o usuário cuja id é i\n",
    "    users[i][\"friends\"].append(users[j]) # adiciona i como um amigo de j\n",
    "    users[j][\"friends\"].append(users[i]) # adiciona j como um amigo de i"
   ]
  },
  {
   "cell_type": "code",
   "execution_count": 7,
   "id": "5973d6d2",
   "metadata": {},
   "outputs": [
    {
     "data": {
      "text/plain": [
       "{'id': 1,\n",
       " 'name': 'Dunn',\n",
       " 'friends': [{'id': 0,\n",
       "   'name': 'Hero',\n",
       "   'friends': [{...},\n",
       "    {'id': 2,\n",
       "     'name': 'Sue',\n",
       "     'friends': [{...},\n",
       "      {...},\n",
       "      {'id': 3,\n",
       "       'name': 'Chi',\n",
       "       'friends': [{...},\n",
       "        {...},\n",
       "        {'id': 4,\n",
       "         'name': 'Thor',\n",
       "         'friends': [{...},\n",
       "          {'id': 5,\n",
       "           'name': 'Clive',\n",
       "           'friends': [{...},\n",
       "            {'id': 6,\n",
       "             'name': 'Hicks',\n",
       "             'friends': [{...},\n",
       "              {'id': 8,\n",
       "               'name': 'Kate',\n",
       "               'friends': [{...},\n",
       "                {'id': 7, 'name': 'Devin', 'friends': [{...}, {...}]},\n",
       "                {'id': 9, 'name': 'Klein', 'friends': [{...}]}]}]},\n",
       "            {'id': 7,\n",
       "             'name': 'Devin',\n",
       "             'friends': [{...},\n",
       "              {'id': 8,\n",
       "               'name': 'Kate',\n",
       "               'friends': [{'id': 6,\n",
       "                 'name': 'Hicks',\n",
       "                 'friends': [{...}, {...}]},\n",
       "                {...},\n",
       "                {'id': 9, 'name': 'Klein', 'friends': [{...}]}]}]}]}]}]}]}]},\n",
       "  {'id': 2,\n",
       "   'name': 'Sue',\n",
       "   'friends': [{'id': 0, 'name': 'Hero', 'friends': [{...}, {...}]},\n",
       "    {...},\n",
       "    {'id': 3,\n",
       "     'name': 'Chi',\n",
       "     'friends': [{...},\n",
       "      {...},\n",
       "      {'id': 4,\n",
       "       'name': 'Thor',\n",
       "       'friends': [{...},\n",
       "        {'id': 5,\n",
       "         'name': 'Clive',\n",
       "         'friends': [{...},\n",
       "          {'id': 6,\n",
       "           'name': 'Hicks',\n",
       "           'friends': [{...},\n",
       "            {'id': 8,\n",
       "             'name': 'Kate',\n",
       "             'friends': [{...},\n",
       "              {'id': 7, 'name': 'Devin', 'friends': [{...}, {...}]},\n",
       "              {'id': 9, 'name': 'Klein', 'friends': [{...}]}]}]},\n",
       "          {'id': 7,\n",
       "           'name': 'Devin',\n",
       "           'friends': [{...},\n",
       "            {'id': 8,\n",
       "             'name': 'Kate',\n",
       "             'friends': [{'id': 6, 'name': 'Hicks', 'friends': [{...}, {...}]},\n",
       "              {...},\n",
       "              {'id': 9, 'name': 'Klein', 'friends': [{...}]}]}]}]}]}]}]},\n",
       "  {'id': 3,\n",
       "   'name': 'Chi',\n",
       "   'friends': [{...},\n",
       "    {'id': 2,\n",
       "     'name': 'Sue',\n",
       "     'friends': [{'id': 0, 'name': 'Hero', 'friends': [{...}, {...}]},\n",
       "      {...},\n",
       "      {...}]},\n",
       "    {'id': 4,\n",
       "     'name': 'Thor',\n",
       "     'friends': [{...},\n",
       "      {'id': 5,\n",
       "       'name': 'Clive',\n",
       "       'friends': [{...},\n",
       "        {'id': 6,\n",
       "         'name': 'Hicks',\n",
       "         'friends': [{...},\n",
       "          {'id': 8,\n",
       "           'name': 'Kate',\n",
       "           'friends': [{...},\n",
       "            {'id': 7, 'name': 'Devin', 'friends': [{...}, {...}]},\n",
       "            {'id': 9, 'name': 'Klein', 'friends': [{...}]}]}]},\n",
       "        {'id': 7,\n",
       "         'name': 'Devin',\n",
       "         'friends': [{...},\n",
       "          {'id': 8,\n",
       "           'name': 'Kate',\n",
       "           'friends': [{'id': 6, 'name': 'Hicks', 'friends': [{...}, {...}]},\n",
       "            {...},\n",
       "            {'id': 9, 'name': 'Klein', 'friends': [{...}]}]}]}]}]}]}]}"
      ]
     },
     "execution_count": 7,
     "metadata": {},
     "output_type": "execute_result"
    }
   ],
   "source": [
    "users[1]"
   ]
  },
  {
   "cell_type": "code",
   "execution_count": 8,
   "id": "e54561d3",
   "metadata": {},
   "outputs": [],
   "source": [
    "def number_of_friends(user):\n",
    "    \"\"\"quantos amigos o usuário tem?\"\"\"\n",
    "    return len(user[\"friends\"]) # tamanho da lista friend_ids"
   ]
  },
  {
   "cell_type": "code",
   "execution_count": 9,
   "id": "b3ff4048",
   "metadata": {},
   "outputs": [],
   "source": [
    "total_connections = sum(number_of_friends(user) for user in users) "
   ]
  },
  {
   "cell_type": "code",
   "execution_count": 10,
   "id": "7201af31",
   "metadata": {},
   "outputs": [
    {
     "data": {
      "text/plain": [
       "24"
      ]
     },
     "execution_count": 10,
     "metadata": {},
     "output_type": "execute_result"
    }
   ],
   "source": [
    "total_connections"
   ]
  },
  {
   "cell_type": "code",
   "execution_count": 11,
   "id": "0f334717",
   "metadata": {},
   "outputs": [],
   "source": [
    "#from future import division # divisão inteira está incompleta\n",
    "num_users = len(users) # tamanho da lista de usuários\n",
    "avg_connections = total_connections / num_users # 2.4"
   ]
  },
  {
   "cell_type": "code",
   "execution_count": 12,
   "id": "e61b2d71",
   "metadata": {},
   "outputs": [
    {
     "data": {
      "text/plain": [
       "2.4"
      ]
     },
     "execution_count": 12,
     "metadata": {},
     "output_type": "execute_result"
    }
   ],
   "source": [
    "avg_connections"
   ]
  },
  {
   "cell_type": "code",
   "execution_count": 13,
   "id": "e6fa4d00",
   "metadata": {},
   "outputs": [
    {
     "ename": "SyntaxError",
     "evalue": "Lambda expression parameters cannot be parenthesized (2146999973.py, line 3)",
     "output_type": "error",
     "traceback": [
      "\u001b[1;36m  Cell \u001b[1;32mIn[13], line 3\u001b[1;36m\u001b[0m\n\u001b[1;33m    sorted(num_friends_by_id, key=lambda(user_id, num_friends):num_friends, reverse=True)\u001b[0m\n\u001b[1;37m                                        ^\u001b[0m\n\u001b[1;31mSyntaxError\u001b[0m\u001b[1;31m:\u001b[0m Lambda expression parameters cannot be parenthesized\n"
     ]
    }
   ],
   "source": [
    "# cria uma lista (user_id, number_of_friends)\n",
    "num_friends_by_id = [(user[\"id\"], number_of_friends(user)) for user in users]\n",
    "sorted(num_friends_by_id, key=lambda(user_id, num_friends):num_friends, reverse=True)\n",
    "# do maior para o menor\n",
    "# cada par é (user_id, num_friends)\n",
    "# [(1, 3), (2, 3), (3, 3), (5, 3), (8, 3),\n",
    "# (0, 2), (4, 2), (6, 2), (7, 2), (9, 1)]"
   ]
  },
  {
   "cell_type": "code",
   "execution_count": 17,
   "id": "29dbe2a3",
   "metadata": {},
   "outputs": [],
   "source": [
    "frase = 'o vasco no va a bajar'\n",
    "serie_A = frase.title()"
   ]
  },
  {
   "cell_type": "code",
   "execution_count": 18,
   "id": "43c85f72",
   "metadata": {},
   "outputs": [
    {
     "data": {
      "text/plain": [
       "'O Vasco No Va A Bajar'"
      ]
     },
     "execution_count": 18,
     "metadata": {},
     "output_type": "execute_result"
    }
   ],
   "source": [
    "serie_A"
   ]
  }
 ],
 "metadata": {
  "kernelspec": {
   "display_name": "Python 3 (ipykernel)",
   "language": "python",
   "name": "python3"
  },
  "language_info": {
   "codemirror_mode": {
    "name": "ipython",
    "version": 3
   },
   "file_extension": ".py",
   "mimetype": "text/x-python",
   "name": "python",
   "nbconvert_exporter": "python",
   "pygments_lexer": "ipython3",
   "version": "3.11.5"
  }
 },
 "nbformat": 4,
 "nbformat_minor": 5
}
