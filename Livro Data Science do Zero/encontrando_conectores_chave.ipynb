{
 "cells": [
  {
   "cell_type": "code",
   "execution_count": 1,
   "id": "662fb817",
   "metadata": {},
   "outputs": [],
   "source": [
    "users = [\n",
    "{ \"id\": 0, \"name\": \"Hero\" },\n",
    "{ \"id\": 1, \"name\": \"Dunn\" },\n",
    "{ \"id\": 2, \"name\": \"Sue\" },\n",
    "{ \"id\": 3, \"name\": \"Chi\" },\n",
    "{ \"id\": 4, \"name\": \"Thor\" },\n",
    "{ \"id\": 5, \"name\": \"Clive\" },\n",
    "{ \"id\": 6, \"name\": \"Hicks\" },\n",
    "{ \"id\": 7, \"name\": \"Devin\" },\n",
    "{ \"id\": 8, \"name\": \"Kate\" },\n",
    "{ \"id\": 9, \"name\": \"Klein\" }\n",
    "]"
   ]
  },
  {
   "cell_type": "code",
   "execution_count": 4,
   "id": "c3efa823",
   "metadata": {},
   "outputs": [],
   "source": [
    "friendships = [(0, 1), (0, 2), (1, 2), (1, 3), (2, 3), (3, 4),\n",
    "(4, 5), (5, 6), (5, 7), (6, 8), (7, 8), (8, 9)]\n",
    "#Por exemplo, a tupla (0,1) indica que o cientista de dados com a id 0 (Hero) e o cientista de dados com a id 1 (Dunn) são amigos"
   ]
  },
  {
   "cell_type": "code",
   "execution_count": 6,
   "id": "c1ad0243",
   "metadata": {},
   "outputs": [],
   "source": [
    "for user in users:\n",
    "    user[\"friends\"] = []"
   ]
  },
  {
   "cell_type": "code",
   "execution_count": 8,
   "id": "7531c445",
   "metadata": {
    "scrolled": true
   },
   "outputs": [
    {
     "data": {
      "text/plain": [
       "[{'id': 0, 'name': 'Hero', 'friends': []},\n",
       " {'id': 1, 'name': 'Dunn', 'friends': []},\n",
       " {'id': 2, 'name': 'Sue', 'friends': []},\n",
       " {'id': 3, 'name': 'Chi', 'friends': []},\n",
       " {'id': 4, 'name': 'Thor', 'friends': []},\n",
       " {'id': 5, 'name': 'Clive', 'friends': []},\n",
       " {'id': 6, 'name': 'Hicks', 'friends': []},\n",
       " {'id': 7, 'name': 'Devin', 'friends': []},\n",
       " {'id': 8, 'name': 'Kate', 'friends': []},\n",
       " {'id': 9, 'name': 'Klein', 'friends': []}]"
      ]
     },
     "execution_count": 8,
     "metadata": {},
     "output_type": "execute_result"
    }
   ],
   "source": [
    "users"
   ]
  },
  {
   "cell_type": "code",
   "execution_count": 11,
   "id": "052da295",
   "metadata": {},
   "outputs": [
    {
     "data": {
      "text/plain": [
       "[(0, 1),\n",
       " (0, 2),\n",
       " (1, 2),\n",
       " (1, 3),\n",
       " (2, 3),\n",
       " (3, 4),\n",
       " (4, 5),\n",
       " (5, 6),\n",
       " (5, 7),\n",
       " (6, 8),\n",
       " (7, 8),\n",
       " (8, 9)]"
      ]
     },
     "execution_count": 11,
     "metadata": {},
     "output_type": "execute_result"
    }
   ],
   "source": [
    "friendships"
   ]
  },
  {
   "cell_type": "code",
   "execution_count": 13,
   "id": "68be0a7d",
   "metadata": {},
   "outputs": [],
   "source": [
    "for i, j in friendships:\n",
    "    # isso funciona porque users[i] é o usuário cuja id é i\n",
    "    users[i][\"friends\"].append(users[j]) # adiciona i como um amigo de j\n",
    "    users[j][\"friends\"].append(users[i]) # adiciona j como um amigo de i"
   ]
  },
  {
   "cell_type": "code",
   "execution_count": 18,
   "id": "a12f798c",
   "metadata": {},
   "outputs": [
    {
     "data": {
      "text/plain": [
       "{'id': 1,\n",
       " 'name': 'Dunn',\n",
       " 'friends': [{'id': 0,\n",
       "   'name': 'Hero',\n",
       "   'friends': [{...},\n",
       "    {'id': 2,\n",
       "     'name': 'Sue',\n",
       "     'friends': [{...},\n",
       "      {...},\n",
       "      {'id': 3,\n",
       "       'name': 'Chi',\n",
       "       'friends': [{...},\n",
       "        {...},\n",
       "        {'id': 4,\n",
       "         'name': 'Thor',\n",
       "         'friends': [{...},\n",
       "          {'id': 5,\n",
       "           'name': 'Clive',\n",
       "           'friends': [{...},\n",
       "            {'id': 6,\n",
       "             'name': 'Hicks',\n",
       "             'friends': [{...},\n",
       "              {'id': 8,\n",
       "               'name': 'Kate',\n",
       "               'friends': [{...},\n",
       "                {'id': 7, 'name': 'Devin', 'friends': [{...}, {...}]},\n",
       "                {'id': 9, 'name': 'Klein', 'friends': [{...}]}]}]},\n",
       "            {'id': 7,\n",
       "             'name': 'Devin',\n",
       "             'friends': [{...},\n",
       "              {'id': 8,\n",
       "               'name': 'Kate',\n",
       "               'friends': [{'id': 6,\n",
       "                 'name': 'Hicks',\n",
       "                 'friends': [{...}, {...}]},\n",
       "                {...},\n",
       "                {'id': 9, 'name': 'Klein', 'friends': [{...}]}]}]}]}]}]}]}]},\n",
       "  {'id': 2,\n",
       "   'name': 'Sue',\n",
       "   'friends': [{'id': 0, 'name': 'Hero', 'friends': [{...}, {...}]},\n",
       "    {...},\n",
       "    {'id': 3,\n",
       "     'name': 'Chi',\n",
       "     'friends': [{...},\n",
       "      {...},\n",
       "      {'id': 4,\n",
       "       'name': 'Thor',\n",
       "       'friends': [{...},\n",
       "        {'id': 5,\n",
       "         'name': 'Clive',\n",
       "         'friends': [{...},\n",
       "          {'id': 6,\n",
       "           'name': 'Hicks',\n",
       "           'friends': [{...},\n",
       "            {'id': 8,\n",
       "             'name': 'Kate',\n",
       "             'friends': [{...},\n",
       "              {'id': 7, 'name': 'Devin', 'friends': [{...}, {...}]},\n",
       "              {'id': 9, 'name': 'Klein', 'friends': [{...}]}]}]},\n",
       "          {'id': 7,\n",
       "           'name': 'Devin',\n",
       "           'friends': [{...},\n",
       "            {'id': 8,\n",
       "             'name': 'Kate',\n",
       "             'friends': [{'id': 6, 'name': 'Hicks', 'friends': [{...}, {...}]},\n",
       "              {...},\n",
       "              {'id': 9, 'name': 'Klein', 'friends': [{...}]}]}]}]}]}]}]},\n",
       "  {'id': 3,\n",
       "   'name': 'Chi',\n",
       "   'friends': [{...},\n",
       "    {'id': 2,\n",
       "     'name': 'Sue',\n",
       "     'friends': [{'id': 0, 'name': 'Hero', 'friends': [{...}, {...}]},\n",
       "      {...},\n",
       "      {...}]},\n",
       "    {'id': 4,\n",
       "     'name': 'Thor',\n",
       "     'friends': [{...},\n",
       "      {'id': 5,\n",
       "       'name': 'Clive',\n",
       "       'friends': [{...},\n",
       "        {'id': 6,\n",
       "         'name': 'Hicks',\n",
       "         'friends': [{...},\n",
       "          {'id': 8,\n",
       "           'name': 'Kate',\n",
       "           'friends': [{...},\n",
       "            {'id': 7, 'name': 'Devin', 'friends': [{...}, {...}]},\n",
       "            {'id': 9, 'name': 'Klein', 'friends': [{...}]}]}]},\n",
       "        {'id': 7,\n",
       "         'name': 'Devin',\n",
       "         'friends': [{...},\n",
       "          {'id': 8,\n",
       "           'name': 'Kate',\n",
       "           'friends': [{'id': 6, 'name': 'Hicks', 'friends': [{...}, {...}]},\n",
       "            {...},\n",
       "            {'id': 9, 'name': 'Klein', 'friends': [{...}]}]}]}]}]}]}]}"
      ]
     },
     "execution_count": 18,
     "metadata": {},
     "output_type": "execute_result"
    }
   ],
   "source": [
    "users[1]"
   ]
  },
  {
   "cell_type": "code",
   "execution_count": 19,
   "id": "d05f9c4d",
   "metadata": {},
   "outputs": [],
   "source": [
    "def number_of_friends(user):\n",
    "    \"\"\"quantos amigos o usuário tem?\"\"\"\n",
    "    return len(user[\"friends\"]) # tamanho da lista friend_ids"
   ]
  },
  {
   "cell_type": "code",
   "execution_count": 22,
   "id": "1b67682a",
   "metadata": {},
   "outputs": [],
   "source": [
    "total_connections = sum(number_of_friends(user) for user in users) "
   ]
  },
  {
   "cell_type": "code",
   "execution_count": 23,
   "id": "2f5d2cc6",
   "metadata": {},
   "outputs": [
    {
     "data": {
      "text/plain": [
       "24"
      ]
     },
     "execution_count": 23,
     "metadata": {},
     "output_type": "execute_result"
    }
   ],
   "source": [
    "total_connections"
   ]
  },
  {
   "cell_type": "code",
   "execution_count": 24,
   "id": "d1b3beb8",
   "metadata": {},
   "outputs": [
    {
     "data": {
      "text/plain": [
       "{'id': 9,\n",
       " 'name': 'Klein',\n",
       " 'friends': [{'id': 8,\n",
       "   'name': 'Kate',\n",
       "   'friends': [{'id': 6,\n",
       "     'name': 'Hicks',\n",
       "     'friends': [{'id': 5,\n",
       "       'name': 'Clive',\n",
       "       'friends': [{'id': 4,\n",
       "         'name': 'Thor',\n",
       "         'friends': [{'id': 3,\n",
       "           'name': 'Chi',\n",
       "           'friends': [{'id': 1,\n",
       "             'name': 'Dunn',\n",
       "             'friends': [{'id': 0,\n",
       "               'name': 'Hero',\n",
       "               'friends': [{...},\n",
       "                {'id': 2, 'name': 'Sue', 'friends': [{...}, {...}, {...}]}]},\n",
       "              {'id': 2,\n",
       "               'name': 'Sue',\n",
       "               'friends': [{'id': 0,\n",
       "                 'name': 'Hero',\n",
       "                 'friends': [{...}, {...}]},\n",
       "                {...},\n",
       "                {...}]},\n",
       "              {...}]},\n",
       "            {'id': 2,\n",
       "             'name': 'Sue',\n",
       "             'friends': [{'id': 0,\n",
       "               'name': 'Hero',\n",
       "               'friends': [{'id': 1,\n",
       "                 'name': 'Dunn',\n",
       "                 'friends': [{...}, {...}, {...}]},\n",
       "                {...}]},\n",
       "              {'id': 1,\n",
       "               'name': 'Dunn',\n",
       "               'friends': [{'id': 0,\n",
       "                 'name': 'Hero',\n",
       "                 'friends': [{...}, {...}]},\n",
       "                {...},\n",
       "                {...}]},\n",
       "              {...}]},\n",
       "            {...}]},\n",
       "          {...}]},\n",
       "        {...},\n",
       "        {'id': 7, 'name': 'Devin', 'friends': [{...}, {...}]}]},\n",
       "      {...}]},\n",
       "    {'id': 7,\n",
       "     'name': 'Devin',\n",
       "     'friends': [{'id': 5,\n",
       "       'name': 'Clive',\n",
       "       'friends': [{'id': 4,\n",
       "         'name': 'Thor',\n",
       "         'friends': [{'id': 3,\n",
       "           'name': 'Chi',\n",
       "           'friends': [{'id': 1,\n",
       "             'name': 'Dunn',\n",
       "             'friends': [{'id': 0,\n",
       "               'name': 'Hero',\n",
       "               'friends': [{...},\n",
       "                {'id': 2, 'name': 'Sue', 'friends': [{...}, {...}, {...}]}]},\n",
       "              {'id': 2,\n",
       "               'name': 'Sue',\n",
       "               'friends': [{'id': 0,\n",
       "                 'name': 'Hero',\n",
       "                 'friends': [{...}, {...}]},\n",
       "                {...},\n",
       "                {...}]},\n",
       "              {...}]},\n",
       "            {'id': 2,\n",
       "             'name': 'Sue',\n",
       "             'friends': [{'id': 0,\n",
       "               'name': 'Hero',\n",
       "               'friends': [{'id': 1,\n",
       "                 'name': 'Dunn',\n",
       "                 'friends': [{...}, {...}, {...}]},\n",
       "                {...}]},\n",
       "              {'id': 1,\n",
       "               'name': 'Dunn',\n",
       "               'friends': [{'id': 0,\n",
       "                 'name': 'Hero',\n",
       "                 'friends': [{...}, {...}]},\n",
       "                {...},\n",
       "                {...}]},\n",
       "              {...}]},\n",
       "            {...}]},\n",
       "          {...}]},\n",
       "        {'id': 6, 'name': 'Hicks', 'friends': [{...}, {...}]},\n",
       "        {...}]},\n",
       "      {...}]},\n",
       "    {...}]}]}"
      ]
     },
     "execution_count": 24,
     "metadata": {},
     "output_type": "execute_result"
    }
   ],
   "source": [
    "user"
   ]
  }
 ],
 "metadata": {
  "kernelspec": {
   "display_name": "Python 3 (ipykernel)",
   "language": "python",
   "name": "python3"
  },
  "language_info": {
   "codemirror_mode": {
    "name": "ipython",
    "version": 3
   },
   "file_extension": ".py",
   "mimetype": "text/x-python",
   "name": "python",
   "nbconvert_exporter": "python",
   "pygments_lexer": "ipython3",
   "version": "3.11.5"
  }
 },
 "nbformat": 4,
 "nbformat_minor": 5
}
