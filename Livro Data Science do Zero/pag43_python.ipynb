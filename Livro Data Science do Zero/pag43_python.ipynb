{
 "cells": [
  {
   "cell_type": "code",
   "execution_count": 1,
   "id": "18a769dd",
   "metadata": {
    "scrolled": true
   },
   "outputs": [
    {
     "name": "stdout",
     "output_type": "stream",
     "text": [
      "1\n",
      "1\n",
      "2\n",
      "2\n",
      "3\n",
      "3\n",
      "4\n",
      "4\n",
      "5\n",
      "5\n",
      "6\n",
      "1\n",
      "2\n",
      "1\n",
      "3\n",
      "2\n",
      "4\n",
      "3\n",
      "5\n",
      "4\n",
      "6\n",
      "5\n",
      "7\n",
      "2\n",
      "3\n",
      "1\n",
      "4\n",
      "2\n",
      "5\n",
      "3\n",
      "6\n",
      "4\n",
      "7\n",
      "5\n",
      "8\n",
      "3\n",
      "4\n",
      "1\n",
      "5\n",
      "2\n",
      "6\n",
      "3\n",
      "7\n",
      "4\n",
      "8\n",
      "5\n",
      "9\n",
      "4\n",
      "5\n",
      "1\n",
      "6\n",
      "2\n",
      "7\n",
      "3\n",
      "8\n",
      "4\n",
      "9\n",
      "5\n",
      "10\n",
      "5\n",
      "done looping\n"
     ]
    }
   ],
   "source": [
    "for i in [1, 2, 3, 4, 5]:\n",
    "    print(i) # primeira linha para o bloco “for i”\n",
    "    for j in [1, 2, 3, 4, 5]:\n",
    "        print(j) # primeira linha para o bloco “for j”\n",
    "        print(i + j) # última linha para o bloco “for j”\n",
    "    print(i) # última linha para o bloco “for i”\n",
    "print(\"done looping\")"
   ]
  },
  {
   "cell_type": "code",
   "execution_count": 3,
   "id": "7edb694c",
   "metadata": {},
   "outputs": [],
   "source": [
    "x = [4,1,2,3]\n",
    "x.sort() # agora x é [1,2,3,4]\n",
    "even_numbers = [x for x in range(5) if x % 2 == 0] # [0, 2, 4]\n",
    "squares = [x * x for x in range(5)] # [0, 1, 4, 9, 16]\n",
    "even_squares = [x * x for x in even_numbers]"
   ]
  },
  {
   "cell_type": "code",
   "execution_count": 4,
   "id": "1e695e97",
   "metadata": {},
   "outputs": [
    {
     "data": {
      "text/plain": [
       "[0, 2, 4]"
      ]
     },
     "execution_count": 4,
     "metadata": {},
     "output_type": "execute_result"
    }
   ],
   "source": [
    "even_numbers"
   ]
  },
  {
   "cell_type": "code",
   "execution_count": 5,
   "id": "a8f7e03e",
   "metadata": {},
   "outputs": [
    {
     "data": {
      "text/plain": [
       "[0, 1, 4, 9, 16]"
      ]
     },
     "execution_count": 5,
     "metadata": {},
     "output_type": "execute_result"
    }
   ],
   "source": [
    "squares"
   ]
  },
  {
   "cell_type": "code",
   "execution_count": 6,
   "id": "8e81974a",
   "metadata": {},
   "outputs": [
    {
     "data": {
      "text/plain": [
       "[0, 4, 16]"
      ]
     },
     "execution_count": 6,
     "metadata": {},
     "output_type": "execute_result"
    }
   ],
   "source": [
    "even_squares"
   ]
  },
  {
   "cell_type": "code",
   "execution_count": 7,
   "id": "0d5df974",
   "metadata": {},
   "outputs": [],
   "source": [
    "square_dict = { x : x * x for x in range(5) }"
   ]
  },
  {
   "cell_type": "code",
   "execution_count": 8,
   "id": "dea790ee",
   "metadata": {
    "scrolled": true
   },
   "outputs": [
    {
     "data": {
      "text/plain": [
       "{0: 0, 1: 1, 2: 4, 3: 9, 4: 16}"
      ]
     },
     "execution_count": 8,
     "metadata": {},
     "output_type": "execute_result"
    }
   ],
   "source": [
    "square_dict"
   ]
  },
  {
   "cell_type": "code",
   "execution_count": 11,
   "id": "0f895826",
   "metadata": {},
   "outputs": [],
   "source": [
    "def lazy_range(n):\n",
    "    \"\"\"uma versão preguiçosa de range\"\"\"\n",
    "    i = 0\n",
    "    while i < n:\n",
    "        yield i\n",
    "        i += 1"
   ]
  },
  {
   "cell_type": "code",
   "execution_count": 15,
   "id": "3e346de2",
   "metadata": {
    "scrolled": true
   },
   "outputs": [
    {
     "name": "stdout",
     "output_type": "stream",
     "text": [
      "0\n",
      "1\n",
      "2\n",
      "3\n",
      "4\n",
      "5\n",
      "6\n",
      "7\n",
      "8\n",
      "9\n"
     ]
    }
   ],
   "source": [
    "for i in lazy_range(10):\n",
    "    print(i)"
   ]
  },
  {
   "cell_type": "code",
   "execution_count": 16,
   "id": "1f05ef26",
   "metadata": {},
   "outputs": [],
   "source": [
    "lazy_evens_below_20 = (i for i in lazy_range(20) if i % 2 == 0)"
   ]
  },
  {
   "cell_type": "code",
   "execution_count": 17,
   "id": "f4c291c7",
   "metadata": {},
   "outputs": [
    {
     "data": {
      "text/plain": [
       "<generator object <genexpr> at 0x0000024E97044110>"
      ]
     },
     "execution_count": 17,
     "metadata": {},
     "output_type": "execute_result"
    }
   ],
   "source": [
    "lazy_evens_below_20"
   ]
  }
 ],
 "metadata": {
  "kernelspec": {
   "display_name": "Python 3 (ipykernel)",
   "language": "python",
   "name": "python3"
  },
  "language_info": {
   "codemirror_mode": {
    "name": "ipython",
    "version": 3
   },
   "file_extension": ".py",
   "mimetype": "text/x-python",
   "name": "python",
   "nbconvert_exporter": "python",
   "pygments_lexer": "ipython3",
   "version": "3.11.5"
  }
 },
 "nbformat": 4,
 "nbformat_minor": 5
}
